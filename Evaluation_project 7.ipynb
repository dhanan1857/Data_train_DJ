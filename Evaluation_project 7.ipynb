{
 "cells": [
  {
   "cell_type": "code",
   "execution_count": 1,
   "metadata": {},
   "outputs": [],
   "source": [
    "import numpy as np\n",
    "import pandas as pd\n",
    "import matplotlib.pyplot as plt\n",
    "import seaborn as sns\n",
    "from scipy.stats import zscore\n",
    "from sklearn.linear_model import LogisticRegression\n",
    "from sklearn.linear_model import LinearRegression\n",
    "from sklearn.metrics import mean_squared_error,mean_absolute_error\n",
    "from sklearn.model_selection import train_test_split\n",
    "from sklearn.metrics import r2_score\n",
    "from sklearn.preprocessing import LabelEncoder\n",
    "from sklearn import metrics\n",
    "from sklearn.metrics import accuracy_score\n",
    "from sklearn.metrics import confusion_matrix,classification_report\n",
    "import warnings\n",
    "warnings.filterwarnings('ignore')"
   ]
  },
  {
   "cell_type": "code",
   "execution_count": 45,
   "metadata": {},
   "outputs": [],
   "source": [
    "df=pd.read_csv('https://raw.githubusercontent.com/dsrscientist/Data-Science-ML-Capstone-Projects/master/baseball.csv')"
   ]
  },
  {
   "cell_type": "code",
   "execution_count": 46,
   "metadata": {},
   "outputs": [
    {
     "data": {
      "text/html": [
       "<div>\n",
       "<style scoped>\n",
       "    .dataframe tbody tr th:only-of-type {\n",
       "        vertical-align: middle;\n",
       "    }\n",
       "\n",
       "    .dataframe tbody tr th {\n",
       "        vertical-align: top;\n",
       "    }\n",
       "\n",
       "    .dataframe thead th {\n",
       "        text-align: right;\n",
       "    }\n",
       "</style>\n",
       "<table border=\"1\" class=\"dataframe\">\n",
       "  <thead>\n",
       "    <tr style=\"text-align: right;\">\n",
       "      <th></th>\n",
       "      <th>W</th>\n",
       "      <th>R</th>\n",
       "      <th>AB</th>\n",
       "      <th>H</th>\n",
       "      <th>2B</th>\n",
       "      <th>3B</th>\n",
       "      <th>HR</th>\n",
       "      <th>BB</th>\n",
       "      <th>SO</th>\n",
       "      <th>SB</th>\n",
       "      <th>RA</th>\n",
       "      <th>ER</th>\n",
       "      <th>ERA</th>\n",
       "      <th>CG</th>\n",
       "      <th>SHO</th>\n",
       "      <th>SV</th>\n",
       "      <th>E</th>\n",
       "    </tr>\n",
       "  </thead>\n",
       "  <tbody>\n",
       "    <tr>\n",
       "      <th>0</th>\n",
       "      <td>95</td>\n",
       "      <td>724</td>\n",
       "      <td>5575</td>\n",
       "      <td>1497</td>\n",
       "      <td>300</td>\n",
       "      <td>42</td>\n",
       "      <td>139</td>\n",
       "      <td>383</td>\n",
       "      <td>973</td>\n",
       "      <td>104</td>\n",
       "      <td>641</td>\n",
       "      <td>601</td>\n",
       "      <td>3.73</td>\n",
       "      <td>2</td>\n",
       "      <td>8</td>\n",
       "      <td>56</td>\n",
       "      <td>88</td>\n",
       "    </tr>\n",
       "    <tr>\n",
       "      <th>1</th>\n",
       "      <td>83</td>\n",
       "      <td>696</td>\n",
       "      <td>5467</td>\n",
       "      <td>1349</td>\n",
       "      <td>277</td>\n",
       "      <td>44</td>\n",
       "      <td>156</td>\n",
       "      <td>439</td>\n",
       "      <td>1264</td>\n",
       "      <td>70</td>\n",
       "      <td>700</td>\n",
       "      <td>653</td>\n",
       "      <td>4.07</td>\n",
       "      <td>2</td>\n",
       "      <td>12</td>\n",
       "      <td>45</td>\n",
       "      <td>86</td>\n",
       "    </tr>\n",
       "    <tr>\n",
       "      <th>2</th>\n",
       "      <td>81</td>\n",
       "      <td>669</td>\n",
       "      <td>5439</td>\n",
       "      <td>1395</td>\n",
       "      <td>303</td>\n",
       "      <td>29</td>\n",
       "      <td>141</td>\n",
       "      <td>533</td>\n",
       "      <td>1157</td>\n",
       "      <td>86</td>\n",
       "      <td>640</td>\n",
       "      <td>584</td>\n",
       "      <td>3.67</td>\n",
       "      <td>11</td>\n",
       "      <td>10</td>\n",
       "      <td>38</td>\n",
       "      <td>79</td>\n",
       "    </tr>\n",
       "    <tr>\n",
       "      <th>3</th>\n",
       "      <td>76</td>\n",
       "      <td>622</td>\n",
       "      <td>5533</td>\n",
       "      <td>1381</td>\n",
       "      <td>260</td>\n",
       "      <td>27</td>\n",
       "      <td>136</td>\n",
       "      <td>404</td>\n",
       "      <td>1231</td>\n",
       "      <td>68</td>\n",
       "      <td>701</td>\n",
       "      <td>643</td>\n",
       "      <td>3.98</td>\n",
       "      <td>7</td>\n",
       "      <td>9</td>\n",
       "      <td>37</td>\n",
       "      <td>101</td>\n",
       "    </tr>\n",
       "    <tr>\n",
       "      <th>4</th>\n",
       "      <td>74</td>\n",
       "      <td>689</td>\n",
       "      <td>5605</td>\n",
       "      <td>1515</td>\n",
       "      <td>289</td>\n",
       "      <td>49</td>\n",
       "      <td>151</td>\n",
       "      <td>455</td>\n",
       "      <td>1259</td>\n",
       "      <td>83</td>\n",
       "      <td>803</td>\n",
       "      <td>746</td>\n",
       "      <td>4.64</td>\n",
       "      <td>7</td>\n",
       "      <td>12</td>\n",
       "      <td>35</td>\n",
       "      <td>86</td>\n",
       "    </tr>\n",
       "  </tbody>\n",
       "</table>\n",
       "</div>"
      ],
      "text/plain": [
       "    W    R    AB     H   2B  3B   HR   BB    SO   SB   RA   ER   ERA  CG  SHO  \\\n",
       "0  95  724  5575  1497  300  42  139  383   973  104  641  601  3.73   2    8   \n",
       "1  83  696  5467  1349  277  44  156  439  1264   70  700  653  4.07   2   12   \n",
       "2  81  669  5439  1395  303  29  141  533  1157   86  640  584  3.67  11   10   \n",
       "3  76  622  5533  1381  260  27  136  404  1231   68  701  643  3.98   7    9   \n",
       "4  74  689  5605  1515  289  49  151  455  1259   83  803  746  4.64   7   12   \n",
       "\n",
       "   SV    E  \n",
       "0  56   88  \n",
       "1  45   86  \n",
       "2  38   79  \n",
       "3  37  101  \n",
       "4  35   86  "
      ]
     },
     "execution_count": 46,
     "metadata": {},
     "output_type": "execute_result"
    }
   ],
   "source": [
    "df.head()"
   ]
  },
  {
   "cell_type": "code",
   "execution_count": 4,
   "metadata": {},
   "outputs": [],
   "source": [
    "# - Input features: Runs, At Bats, Hits, Doubles, Triples, Homeruns, Walks, \n",
    "#Strikeouts,Stolen Bases, Runs Allowed, Earned Runs, Earned Run Average (ERA), Shutouts, Saves, and Errors"
   ]
  },
  {
   "cell_type": "code",
   "execution_count": 5,
   "metadata": {},
   "outputs": [
    {
     "data": {
      "text/html": [
       "<div>\n",
       "<style scoped>\n",
       "    .dataframe tbody tr th:only-of-type {\n",
       "        vertical-align: middle;\n",
       "    }\n",
       "\n",
       "    .dataframe tbody tr th {\n",
       "        vertical-align: top;\n",
       "    }\n",
       "\n",
       "    .dataframe thead th {\n",
       "        text-align: right;\n",
       "    }\n",
       "</style>\n",
       "<table border=\"1\" class=\"dataframe\">\n",
       "  <thead>\n",
       "    <tr style=\"text-align: right;\">\n",
       "      <th></th>\n",
       "      <th>W</th>\n",
       "      <th>R</th>\n",
       "      <th>AB</th>\n",
       "      <th>H</th>\n",
       "      <th>2B</th>\n",
       "      <th>3B</th>\n",
       "      <th>HR</th>\n",
       "      <th>BB</th>\n",
       "      <th>SO</th>\n",
       "      <th>SB</th>\n",
       "      <th>RA</th>\n",
       "      <th>ER</th>\n",
       "      <th>ERA</th>\n",
       "      <th>CG</th>\n",
       "      <th>SHO</th>\n",
       "      <th>SV</th>\n",
       "      <th>E</th>\n",
       "    </tr>\n",
       "  </thead>\n",
       "  <tbody>\n",
       "    <tr>\n",
       "      <th>count</th>\n",
       "      <td>30.000000</td>\n",
       "      <td>30.000000</td>\n",
       "      <td>30.000000</td>\n",
       "      <td>30.000000</td>\n",
       "      <td>30.000000</td>\n",
       "      <td>30.000000</td>\n",
       "      <td>30.000000</td>\n",
       "      <td>30.000000</td>\n",
       "      <td>30.00000</td>\n",
       "      <td>30.000000</td>\n",
       "      <td>30.000000</td>\n",
       "      <td>30.000000</td>\n",
       "      <td>30.000000</td>\n",
       "      <td>30.000000</td>\n",
       "      <td>30.000000</td>\n",
       "      <td>30.000000</td>\n",
       "      <td>30.000000</td>\n",
       "    </tr>\n",
       "    <tr>\n",
       "      <th>mean</th>\n",
       "      <td>80.966667</td>\n",
       "      <td>688.233333</td>\n",
       "      <td>5516.266667</td>\n",
       "      <td>1403.533333</td>\n",
       "      <td>274.733333</td>\n",
       "      <td>31.300000</td>\n",
       "      <td>163.633333</td>\n",
       "      <td>469.100000</td>\n",
       "      <td>1248.20000</td>\n",
       "      <td>83.500000</td>\n",
       "      <td>688.233333</td>\n",
       "      <td>635.833333</td>\n",
       "      <td>3.956333</td>\n",
       "      <td>3.466667</td>\n",
       "      <td>11.300000</td>\n",
       "      <td>43.066667</td>\n",
       "      <td>94.333333</td>\n",
       "    </tr>\n",
       "    <tr>\n",
       "      <th>std</th>\n",
       "      <td>10.453455</td>\n",
       "      <td>58.761754</td>\n",
       "      <td>70.467372</td>\n",
       "      <td>57.140923</td>\n",
       "      <td>18.095405</td>\n",
       "      <td>10.452355</td>\n",
       "      <td>31.823309</td>\n",
       "      <td>57.053725</td>\n",
       "      <td>103.75947</td>\n",
       "      <td>22.815225</td>\n",
       "      <td>72.108005</td>\n",
       "      <td>70.140786</td>\n",
       "      <td>0.454089</td>\n",
       "      <td>2.763473</td>\n",
       "      <td>4.120177</td>\n",
       "      <td>7.869335</td>\n",
       "      <td>13.958889</td>\n",
       "    </tr>\n",
       "    <tr>\n",
       "      <th>min</th>\n",
       "      <td>63.000000</td>\n",
       "      <td>573.000000</td>\n",
       "      <td>5385.000000</td>\n",
       "      <td>1324.000000</td>\n",
       "      <td>236.000000</td>\n",
       "      <td>13.000000</td>\n",
       "      <td>100.000000</td>\n",
       "      <td>375.000000</td>\n",
       "      <td>973.00000</td>\n",
       "      <td>44.000000</td>\n",
       "      <td>525.000000</td>\n",
       "      <td>478.000000</td>\n",
       "      <td>2.940000</td>\n",
       "      <td>0.000000</td>\n",
       "      <td>4.000000</td>\n",
       "      <td>28.000000</td>\n",
       "      <td>75.000000</td>\n",
       "    </tr>\n",
       "    <tr>\n",
       "      <th>25%</th>\n",
       "      <td>74.000000</td>\n",
       "      <td>651.250000</td>\n",
       "      <td>5464.000000</td>\n",
       "      <td>1363.000000</td>\n",
       "      <td>262.250000</td>\n",
       "      <td>23.000000</td>\n",
       "      <td>140.250000</td>\n",
       "      <td>428.250000</td>\n",
       "      <td>1157.50000</td>\n",
       "      <td>69.000000</td>\n",
       "      <td>636.250000</td>\n",
       "      <td>587.250000</td>\n",
       "      <td>3.682500</td>\n",
       "      <td>1.000000</td>\n",
       "      <td>9.000000</td>\n",
       "      <td>37.250000</td>\n",
       "      <td>86.000000</td>\n",
       "    </tr>\n",
       "    <tr>\n",
       "      <th>50%</th>\n",
       "      <td>81.000000</td>\n",
       "      <td>689.000000</td>\n",
       "      <td>5510.000000</td>\n",
       "      <td>1382.500000</td>\n",
       "      <td>275.500000</td>\n",
       "      <td>31.000000</td>\n",
       "      <td>158.500000</td>\n",
       "      <td>473.000000</td>\n",
       "      <td>1261.50000</td>\n",
       "      <td>83.500000</td>\n",
       "      <td>695.500000</td>\n",
       "      <td>644.500000</td>\n",
       "      <td>4.025000</td>\n",
       "      <td>3.000000</td>\n",
       "      <td>12.000000</td>\n",
       "      <td>42.000000</td>\n",
       "      <td>91.000000</td>\n",
       "    </tr>\n",
       "    <tr>\n",
       "      <th>75%</th>\n",
       "      <td>87.750000</td>\n",
       "      <td>718.250000</td>\n",
       "      <td>5570.000000</td>\n",
       "      <td>1451.500000</td>\n",
       "      <td>288.750000</td>\n",
       "      <td>39.000000</td>\n",
       "      <td>177.000000</td>\n",
       "      <td>501.250000</td>\n",
       "      <td>1311.50000</td>\n",
       "      <td>96.500000</td>\n",
       "      <td>732.500000</td>\n",
       "      <td>679.250000</td>\n",
       "      <td>4.220000</td>\n",
       "      <td>5.750000</td>\n",
       "      <td>13.000000</td>\n",
       "      <td>46.750000</td>\n",
       "      <td>96.750000</td>\n",
       "    </tr>\n",
       "    <tr>\n",
       "      <th>max</th>\n",
       "      <td>100.000000</td>\n",
       "      <td>891.000000</td>\n",
       "      <td>5649.000000</td>\n",
       "      <td>1515.000000</td>\n",
       "      <td>308.000000</td>\n",
       "      <td>49.000000</td>\n",
       "      <td>232.000000</td>\n",
       "      <td>570.000000</td>\n",
       "      <td>1518.00000</td>\n",
       "      <td>134.000000</td>\n",
       "      <td>844.000000</td>\n",
       "      <td>799.000000</td>\n",
       "      <td>5.040000</td>\n",
       "      <td>11.000000</td>\n",
       "      <td>21.000000</td>\n",
       "      <td>62.000000</td>\n",
       "      <td>126.000000</td>\n",
       "    </tr>\n",
       "  </tbody>\n",
       "</table>\n",
       "</div>"
      ],
      "text/plain": [
       "                W           R           AB            H          2B  \\\n",
       "count   30.000000   30.000000    30.000000    30.000000   30.000000   \n",
       "mean    80.966667  688.233333  5516.266667  1403.533333  274.733333   \n",
       "std     10.453455   58.761754    70.467372    57.140923   18.095405   \n",
       "min     63.000000  573.000000  5385.000000  1324.000000  236.000000   \n",
       "25%     74.000000  651.250000  5464.000000  1363.000000  262.250000   \n",
       "50%     81.000000  689.000000  5510.000000  1382.500000  275.500000   \n",
       "75%     87.750000  718.250000  5570.000000  1451.500000  288.750000   \n",
       "max    100.000000  891.000000  5649.000000  1515.000000  308.000000   \n",
       "\n",
       "              3B          HR          BB          SO          SB          RA  \\\n",
       "count  30.000000   30.000000   30.000000    30.00000   30.000000   30.000000   \n",
       "mean   31.300000  163.633333  469.100000  1248.20000   83.500000  688.233333   \n",
       "std    10.452355   31.823309   57.053725   103.75947   22.815225   72.108005   \n",
       "min    13.000000  100.000000  375.000000   973.00000   44.000000  525.000000   \n",
       "25%    23.000000  140.250000  428.250000  1157.50000   69.000000  636.250000   \n",
       "50%    31.000000  158.500000  473.000000  1261.50000   83.500000  695.500000   \n",
       "75%    39.000000  177.000000  501.250000  1311.50000   96.500000  732.500000   \n",
       "max    49.000000  232.000000  570.000000  1518.00000  134.000000  844.000000   \n",
       "\n",
       "               ER        ERA         CG        SHO         SV           E  \n",
       "count   30.000000  30.000000  30.000000  30.000000  30.000000   30.000000  \n",
       "mean   635.833333   3.956333   3.466667  11.300000  43.066667   94.333333  \n",
       "std     70.140786   0.454089   2.763473   4.120177   7.869335   13.958889  \n",
       "min    478.000000   2.940000   0.000000   4.000000  28.000000   75.000000  \n",
       "25%    587.250000   3.682500   1.000000   9.000000  37.250000   86.000000  \n",
       "50%    644.500000   4.025000   3.000000  12.000000  42.000000   91.000000  \n",
       "75%    679.250000   4.220000   5.750000  13.000000  46.750000   96.750000  \n",
       "max    799.000000   5.040000  11.000000  21.000000  62.000000  126.000000  "
      ]
     },
     "execution_count": 5,
     "metadata": {},
     "output_type": "execute_result"
    }
   ],
   "source": [
    "df.describe()"
   ]
  },
  {
   "cell_type": "code",
   "execution_count": 6,
   "metadata": {},
   "outputs": [
    {
     "data": {
      "text/plain": [
       "W      0\n",
       "R      0\n",
       "AB     0\n",
       "H      0\n",
       "2B     0\n",
       "3B     0\n",
       "HR     0\n",
       "BB     0\n",
       "SO     0\n",
       "SB     0\n",
       "RA     0\n",
       "ER     0\n",
       "ERA    0\n",
       "CG     0\n",
       "SHO    0\n",
       "SV     0\n",
       "E      0\n",
       "dtype: int64"
      ]
     },
     "execution_count": 6,
     "metadata": {},
     "output_type": "execute_result"
    }
   ],
   "source": [
    "# To  find missing values\n",
    "df.isnull().sum()"
   ]
  },
  {
   "cell_type": "code",
   "execution_count": 51,
   "metadata": {},
   "outputs": [],
   "source": [
    "# No Null values found"
   ]
  },
  {
   "cell_type": "code",
   "execution_count": null,
   "metadata": {},
   "outputs": [],
   "source": []
  },
  {
   "cell_type": "code",
   "execution_count": 8,
   "metadata": {},
   "outputs": [
    {
     "data": {
      "text/plain": [
       "W        int64\n",
       "R        int64\n",
       "AB       int64\n",
       "H        int64\n",
       "2B       int64\n",
       "3B       int64\n",
       "HR       int64\n",
       "BB       int64\n",
       "SO       int64\n",
       "SB       int64\n",
       "RA       int64\n",
       "ER       int64\n",
       "ERA    float64\n",
       "CG       int64\n",
       "SHO      int64\n",
       "SV       int64\n",
       "E        int64\n",
       "dtype: object"
      ]
     },
     "execution_count": 8,
     "metadata": {},
     "output_type": "execute_result"
    }
   ],
   "source": [
    "# Check data type\n",
    "df.dtypes"
   ]
  },
  {
   "cell_type": "code",
   "execution_count": 9,
   "metadata": {},
   "outputs": [],
   "source": [
    "dfcorr=df.corr()"
   ]
  },
  {
   "cell_type": "code",
   "execution_count": 10,
   "metadata": {},
   "outputs": [
    {
     "data": {
      "text/html": [
       "<div>\n",
       "<style scoped>\n",
       "    .dataframe tbody tr th:only-of-type {\n",
       "        vertical-align: middle;\n",
       "    }\n",
       "\n",
       "    .dataframe tbody tr th {\n",
       "        vertical-align: top;\n",
       "    }\n",
       "\n",
       "    .dataframe thead th {\n",
       "        text-align: right;\n",
       "    }\n",
       "</style>\n",
       "<table border=\"1\" class=\"dataframe\">\n",
       "  <thead>\n",
       "    <tr style=\"text-align: right;\">\n",
       "      <th></th>\n",
       "      <th>W</th>\n",
       "      <th>R</th>\n",
       "      <th>AB</th>\n",
       "      <th>H</th>\n",
       "      <th>2B</th>\n",
       "      <th>3B</th>\n",
       "      <th>HR</th>\n",
       "      <th>BB</th>\n",
       "      <th>SO</th>\n",
       "      <th>SB</th>\n",
       "      <th>RA</th>\n",
       "      <th>ER</th>\n",
       "      <th>ERA</th>\n",
       "      <th>CG</th>\n",
       "      <th>SHO</th>\n",
       "      <th>SV</th>\n",
       "      <th>E</th>\n",
       "    </tr>\n",
       "  </thead>\n",
       "  <tbody>\n",
       "    <tr>\n",
       "      <th>W</th>\n",
       "      <td>1.000000</td>\n",
       "      <td>0.430751</td>\n",
       "      <td>-0.087947</td>\n",
       "      <td>0.037612</td>\n",
       "      <td>0.427797</td>\n",
       "      <td>-0.251118</td>\n",
       "      <td>0.307407</td>\n",
       "      <td>0.484342</td>\n",
       "      <td>0.111850</td>\n",
       "      <td>-0.157234</td>\n",
       "      <td>-0.812952</td>\n",
       "      <td>-0.809435</td>\n",
       "      <td>-0.819600</td>\n",
       "      <td>0.080533</td>\n",
       "      <td>0.471805</td>\n",
       "      <td>0.666530</td>\n",
       "      <td>-0.089485</td>\n",
       "    </tr>\n",
       "    <tr>\n",
       "      <th>R</th>\n",
       "      <td>0.430751</td>\n",
       "      <td>1.000000</td>\n",
       "      <td>0.319464</td>\n",
       "      <td>0.482856</td>\n",
       "      <td>0.560084</td>\n",
       "      <td>-0.070072</td>\n",
       "      <td>0.671283</td>\n",
       "      <td>0.402452</td>\n",
       "      <td>-0.054726</td>\n",
       "      <td>0.081367</td>\n",
       "      <td>-0.041623</td>\n",
       "      <td>-0.041245</td>\n",
       "      <td>-0.049281</td>\n",
       "      <td>0.232042</td>\n",
       "      <td>-0.103274</td>\n",
       "      <td>-0.096380</td>\n",
       "      <td>-0.023262</td>\n",
       "    </tr>\n",
       "    <tr>\n",
       "      <th>AB</th>\n",
       "      <td>-0.087947</td>\n",
       "      <td>0.319464</td>\n",
       "      <td>1.000000</td>\n",
       "      <td>0.739122</td>\n",
       "      <td>0.453370</td>\n",
       "      <td>0.435422</td>\n",
       "      <td>-0.066983</td>\n",
       "      <td>-0.136414</td>\n",
       "      <td>-0.106022</td>\n",
       "      <td>0.372618</td>\n",
       "      <td>0.316010</td>\n",
       "      <td>0.309686</td>\n",
       "      <td>0.255551</td>\n",
       "      <td>-0.080876</td>\n",
       "      <td>-0.197321</td>\n",
       "      <td>-0.106367</td>\n",
       "      <td>0.316743</td>\n",
       "    </tr>\n",
       "    <tr>\n",
       "      <th>H</th>\n",
       "      <td>0.037612</td>\n",
       "      <td>0.482856</td>\n",
       "      <td>0.739122</td>\n",
       "      <td>1.000000</td>\n",
       "      <td>0.566847</td>\n",
       "      <td>0.478694</td>\n",
       "      <td>-0.090855</td>\n",
       "      <td>-0.118281</td>\n",
       "      <td>-0.398830</td>\n",
       "      <td>0.413444</td>\n",
       "      <td>0.224324</td>\n",
       "      <td>0.252489</td>\n",
       "      <td>0.231172</td>\n",
       "      <td>0.147955</td>\n",
       "      <td>-0.145559</td>\n",
       "      <td>-0.130371</td>\n",
       "      <td>-0.033173</td>\n",
       "    </tr>\n",
       "    <tr>\n",
       "      <th>2B</th>\n",
       "      <td>0.427797</td>\n",
       "      <td>0.560084</td>\n",
       "      <td>0.453370</td>\n",
       "      <td>0.566847</td>\n",
       "      <td>1.000000</td>\n",
       "      <td>0.220490</td>\n",
       "      <td>0.056292</td>\n",
       "      <td>0.302700</td>\n",
       "      <td>-0.150752</td>\n",
       "      <td>0.195027</td>\n",
       "      <td>-0.218160</td>\n",
       "      <td>-0.235531</td>\n",
       "      <td>-0.254854</td>\n",
       "      <td>0.306675</td>\n",
       "      <td>0.057998</td>\n",
       "      <td>0.171576</td>\n",
       "      <td>0.105754</td>\n",
       "    </tr>\n",
       "    <tr>\n",
       "      <th>3B</th>\n",
       "      <td>-0.251118</td>\n",
       "      <td>-0.070072</td>\n",
       "      <td>0.435422</td>\n",
       "      <td>0.478694</td>\n",
       "      <td>0.220490</td>\n",
       "      <td>1.000000</td>\n",
       "      <td>-0.430915</td>\n",
       "      <td>-0.454949</td>\n",
       "      <td>-0.141196</td>\n",
       "      <td>0.457437</td>\n",
       "      <td>0.314125</td>\n",
       "      <td>0.340225</td>\n",
       "      <td>0.330951</td>\n",
       "      <td>-0.065898</td>\n",
       "      <td>-0.041396</td>\n",
       "      <td>-0.142370</td>\n",
       "      <td>0.126678</td>\n",
       "    </tr>\n",
       "    <tr>\n",
       "      <th>HR</th>\n",
       "      <td>0.307407</td>\n",
       "      <td>0.671283</td>\n",
       "      <td>-0.066983</td>\n",
       "      <td>-0.090855</td>\n",
       "      <td>0.056292</td>\n",
       "      <td>-0.430915</td>\n",
       "      <td>1.000000</td>\n",
       "      <td>0.425691</td>\n",
       "      <td>0.359923</td>\n",
       "      <td>-0.136567</td>\n",
       "      <td>-0.103903</td>\n",
       "      <td>-0.085922</td>\n",
       "      <td>-0.090917</td>\n",
       "      <td>0.156502</td>\n",
       "      <td>-0.019119</td>\n",
       "      <td>-0.028540</td>\n",
       "      <td>-0.207597</td>\n",
       "    </tr>\n",
       "    <tr>\n",
       "      <th>BB</th>\n",
       "      <td>0.484342</td>\n",
       "      <td>0.402452</td>\n",
       "      <td>-0.136414</td>\n",
       "      <td>-0.118281</td>\n",
       "      <td>0.302700</td>\n",
       "      <td>-0.454949</td>\n",
       "      <td>0.425691</td>\n",
       "      <td>1.000000</td>\n",
       "      <td>0.233652</td>\n",
       "      <td>-0.098347</td>\n",
       "      <td>-0.416445</td>\n",
       "      <td>-0.452663</td>\n",
       "      <td>-0.459832</td>\n",
       "      <td>0.462478</td>\n",
       "      <td>0.426004</td>\n",
       "      <td>0.099445</td>\n",
       "      <td>-0.075685</td>\n",
       "    </tr>\n",
       "    <tr>\n",
       "      <th>SO</th>\n",
       "      <td>0.111850</td>\n",
       "      <td>-0.054726</td>\n",
       "      <td>-0.106022</td>\n",
       "      <td>-0.398830</td>\n",
       "      <td>-0.150752</td>\n",
       "      <td>-0.141196</td>\n",
       "      <td>0.359923</td>\n",
       "      <td>0.233652</td>\n",
       "      <td>1.000000</td>\n",
       "      <td>0.030968</td>\n",
       "      <td>-0.129745</td>\n",
       "      <td>-0.161612</td>\n",
       "      <td>-0.180368</td>\n",
       "      <td>-0.093418</td>\n",
       "      <td>0.237721</td>\n",
       "      <td>0.126297</td>\n",
       "      <td>0.155133</td>\n",
       "    </tr>\n",
       "    <tr>\n",
       "      <th>SB</th>\n",
       "      <td>-0.157234</td>\n",
       "      <td>0.081367</td>\n",
       "      <td>0.372618</td>\n",
       "      <td>0.413444</td>\n",
       "      <td>0.195027</td>\n",
       "      <td>0.457437</td>\n",
       "      <td>-0.136567</td>\n",
       "      <td>-0.098347</td>\n",
       "      <td>0.030968</td>\n",
       "      <td>1.000000</td>\n",
       "      <td>0.132290</td>\n",
       "      <td>0.143068</td>\n",
       "      <td>0.126063</td>\n",
       "      <td>-0.020783</td>\n",
       "      <td>-0.106563</td>\n",
       "      <td>-0.183418</td>\n",
       "      <td>0.079149</td>\n",
       "    </tr>\n",
       "    <tr>\n",
       "      <th>RA</th>\n",
       "      <td>-0.812952</td>\n",
       "      <td>-0.041623</td>\n",
       "      <td>0.316010</td>\n",
       "      <td>0.224324</td>\n",
       "      <td>-0.218160</td>\n",
       "      <td>0.314125</td>\n",
       "      <td>-0.103903</td>\n",
       "      <td>-0.416445</td>\n",
       "      <td>-0.129745</td>\n",
       "      <td>0.132290</td>\n",
       "      <td>1.000000</td>\n",
       "      <td>0.991018</td>\n",
       "      <td>0.986674</td>\n",
       "      <td>-0.016659</td>\n",
       "      <td>-0.636862</td>\n",
       "      <td>-0.616224</td>\n",
       "      <td>0.198996</td>\n",
       "    </tr>\n",
       "    <tr>\n",
       "      <th>ER</th>\n",
       "      <td>-0.809435</td>\n",
       "      <td>-0.041245</td>\n",
       "      <td>0.309686</td>\n",
       "      <td>0.252489</td>\n",
       "      <td>-0.235531</td>\n",
       "      <td>0.340225</td>\n",
       "      <td>-0.085922</td>\n",
       "      <td>-0.452663</td>\n",
       "      <td>-0.161612</td>\n",
       "      <td>0.143068</td>\n",
       "      <td>0.991018</td>\n",
       "      <td>1.000000</td>\n",
       "      <td>0.997248</td>\n",
       "      <td>-0.020221</td>\n",
       "      <td>-0.630192</td>\n",
       "      <td>-0.589663</td>\n",
       "      <td>0.136921</td>\n",
       "    </tr>\n",
       "    <tr>\n",
       "      <th>ERA</th>\n",
       "      <td>-0.819600</td>\n",
       "      <td>-0.049281</td>\n",
       "      <td>0.255551</td>\n",
       "      <td>0.231172</td>\n",
       "      <td>-0.254854</td>\n",
       "      <td>0.330951</td>\n",
       "      <td>-0.090917</td>\n",
       "      <td>-0.459832</td>\n",
       "      <td>-0.180368</td>\n",
       "      <td>0.126063</td>\n",
       "      <td>0.986674</td>\n",
       "      <td>0.997248</td>\n",
       "      <td>1.000000</td>\n",
       "      <td>-0.009856</td>\n",
       "      <td>-0.630833</td>\n",
       "      <td>-0.607005</td>\n",
       "      <td>0.113137</td>\n",
       "    </tr>\n",
       "    <tr>\n",
       "      <th>CG</th>\n",
       "      <td>0.080533</td>\n",
       "      <td>0.232042</td>\n",
       "      <td>-0.080876</td>\n",
       "      <td>0.147955</td>\n",
       "      <td>0.306675</td>\n",
       "      <td>-0.065898</td>\n",
       "      <td>0.156502</td>\n",
       "      <td>0.462478</td>\n",
       "      <td>-0.093418</td>\n",
       "      <td>-0.020783</td>\n",
       "      <td>-0.016659</td>\n",
       "      <td>-0.020221</td>\n",
       "      <td>-0.009856</td>\n",
       "      <td>1.000000</td>\n",
       "      <td>0.241676</td>\n",
       "      <td>-0.367766</td>\n",
       "      <td>-0.140047</td>\n",
       "    </tr>\n",
       "    <tr>\n",
       "      <th>SHO</th>\n",
       "      <td>0.471805</td>\n",
       "      <td>-0.103274</td>\n",
       "      <td>-0.197321</td>\n",
       "      <td>-0.145559</td>\n",
       "      <td>0.057998</td>\n",
       "      <td>-0.041396</td>\n",
       "      <td>-0.019119</td>\n",
       "      <td>0.426004</td>\n",
       "      <td>0.237721</td>\n",
       "      <td>-0.106563</td>\n",
       "      <td>-0.636862</td>\n",
       "      <td>-0.630192</td>\n",
       "      <td>-0.630833</td>\n",
       "      <td>0.241676</td>\n",
       "      <td>1.000000</td>\n",
       "      <td>0.221639</td>\n",
       "      <td>-0.115716</td>\n",
       "    </tr>\n",
       "    <tr>\n",
       "      <th>SV</th>\n",
       "      <td>0.666530</td>\n",
       "      <td>-0.096380</td>\n",
       "      <td>-0.106367</td>\n",
       "      <td>-0.130371</td>\n",
       "      <td>0.171576</td>\n",
       "      <td>-0.142370</td>\n",
       "      <td>-0.028540</td>\n",
       "      <td>0.099445</td>\n",
       "      <td>0.126297</td>\n",
       "      <td>-0.183418</td>\n",
       "      <td>-0.616224</td>\n",
       "      <td>-0.589663</td>\n",
       "      <td>-0.607005</td>\n",
       "      <td>-0.367766</td>\n",
       "      <td>0.221639</td>\n",
       "      <td>1.000000</td>\n",
       "      <td>-0.025636</td>\n",
       "    </tr>\n",
       "    <tr>\n",
       "      <th>E</th>\n",
       "      <td>-0.089485</td>\n",
       "      <td>-0.023262</td>\n",
       "      <td>0.316743</td>\n",
       "      <td>-0.033173</td>\n",
       "      <td>0.105754</td>\n",
       "      <td>0.126678</td>\n",
       "      <td>-0.207597</td>\n",
       "      <td>-0.075685</td>\n",
       "      <td>0.155133</td>\n",
       "      <td>0.079149</td>\n",
       "      <td>0.198996</td>\n",
       "      <td>0.136921</td>\n",
       "      <td>0.113137</td>\n",
       "      <td>-0.140047</td>\n",
       "      <td>-0.115716</td>\n",
       "      <td>-0.025636</td>\n",
       "      <td>1.000000</td>\n",
       "    </tr>\n",
       "  </tbody>\n",
       "</table>\n",
       "</div>"
      ],
      "text/plain": [
       "            W         R        AB         H        2B        3B        HR  \\\n",
       "W    1.000000  0.430751 -0.087947  0.037612  0.427797 -0.251118  0.307407   \n",
       "R    0.430751  1.000000  0.319464  0.482856  0.560084 -0.070072  0.671283   \n",
       "AB  -0.087947  0.319464  1.000000  0.739122  0.453370  0.435422 -0.066983   \n",
       "H    0.037612  0.482856  0.739122  1.000000  0.566847  0.478694 -0.090855   \n",
       "2B   0.427797  0.560084  0.453370  0.566847  1.000000  0.220490  0.056292   \n",
       "3B  -0.251118 -0.070072  0.435422  0.478694  0.220490  1.000000 -0.430915   \n",
       "HR   0.307407  0.671283 -0.066983 -0.090855  0.056292 -0.430915  1.000000   \n",
       "BB   0.484342  0.402452 -0.136414 -0.118281  0.302700 -0.454949  0.425691   \n",
       "SO   0.111850 -0.054726 -0.106022 -0.398830 -0.150752 -0.141196  0.359923   \n",
       "SB  -0.157234  0.081367  0.372618  0.413444  0.195027  0.457437 -0.136567   \n",
       "RA  -0.812952 -0.041623  0.316010  0.224324 -0.218160  0.314125 -0.103903   \n",
       "ER  -0.809435 -0.041245  0.309686  0.252489 -0.235531  0.340225 -0.085922   \n",
       "ERA -0.819600 -0.049281  0.255551  0.231172 -0.254854  0.330951 -0.090917   \n",
       "CG   0.080533  0.232042 -0.080876  0.147955  0.306675 -0.065898  0.156502   \n",
       "SHO  0.471805 -0.103274 -0.197321 -0.145559  0.057998 -0.041396 -0.019119   \n",
       "SV   0.666530 -0.096380 -0.106367 -0.130371  0.171576 -0.142370 -0.028540   \n",
       "E   -0.089485 -0.023262  0.316743 -0.033173  0.105754  0.126678 -0.207597   \n",
       "\n",
       "           BB        SO        SB        RA        ER       ERA        CG  \\\n",
       "W    0.484342  0.111850 -0.157234 -0.812952 -0.809435 -0.819600  0.080533   \n",
       "R    0.402452 -0.054726  0.081367 -0.041623 -0.041245 -0.049281  0.232042   \n",
       "AB  -0.136414 -0.106022  0.372618  0.316010  0.309686  0.255551 -0.080876   \n",
       "H   -0.118281 -0.398830  0.413444  0.224324  0.252489  0.231172  0.147955   \n",
       "2B   0.302700 -0.150752  0.195027 -0.218160 -0.235531 -0.254854  0.306675   \n",
       "3B  -0.454949 -0.141196  0.457437  0.314125  0.340225  0.330951 -0.065898   \n",
       "HR   0.425691  0.359923 -0.136567 -0.103903 -0.085922 -0.090917  0.156502   \n",
       "BB   1.000000  0.233652 -0.098347 -0.416445 -0.452663 -0.459832  0.462478   \n",
       "SO   0.233652  1.000000  0.030968 -0.129745 -0.161612 -0.180368 -0.093418   \n",
       "SB  -0.098347  0.030968  1.000000  0.132290  0.143068  0.126063 -0.020783   \n",
       "RA  -0.416445 -0.129745  0.132290  1.000000  0.991018  0.986674 -0.016659   \n",
       "ER  -0.452663 -0.161612  0.143068  0.991018  1.000000  0.997248 -0.020221   \n",
       "ERA -0.459832 -0.180368  0.126063  0.986674  0.997248  1.000000 -0.009856   \n",
       "CG   0.462478 -0.093418 -0.020783 -0.016659 -0.020221 -0.009856  1.000000   \n",
       "SHO  0.426004  0.237721 -0.106563 -0.636862 -0.630192 -0.630833  0.241676   \n",
       "SV   0.099445  0.126297 -0.183418 -0.616224 -0.589663 -0.607005 -0.367766   \n",
       "E   -0.075685  0.155133  0.079149  0.198996  0.136921  0.113137 -0.140047   \n",
       "\n",
       "          SHO        SV         E  \n",
       "W    0.471805  0.666530 -0.089485  \n",
       "R   -0.103274 -0.096380 -0.023262  \n",
       "AB  -0.197321 -0.106367  0.316743  \n",
       "H   -0.145559 -0.130371 -0.033173  \n",
       "2B   0.057998  0.171576  0.105754  \n",
       "3B  -0.041396 -0.142370  0.126678  \n",
       "HR  -0.019119 -0.028540 -0.207597  \n",
       "BB   0.426004  0.099445 -0.075685  \n",
       "SO   0.237721  0.126297  0.155133  \n",
       "SB  -0.106563 -0.183418  0.079149  \n",
       "RA  -0.636862 -0.616224  0.198996  \n",
       "ER  -0.630192 -0.589663  0.136921  \n",
       "ERA -0.630833 -0.607005  0.113137  \n",
       "CG   0.241676 -0.367766 -0.140047  \n",
       "SHO  1.000000  0.221639 -0.115716  \n",
       "SV   0.221639  1.000000 -0.025636  \n",
       "E   -0.115716 -0.025636  1.000000  "
      ]
     },
     "execution_count": 10,
     "metadata": {},
     "output_type": "execute_result"
    }
   ],
   "source": [
    "dfcorr"
   ]
  },
  {
   "cell_type": "code",
   "execution_count": 13,
   "metadata": {},
   "outputs": [
    {
     "data": {
      "text/plain": [
       "<matplotlib.axes._subplots.AxesSubplot at 0x261412cbe10>"
      ]
     },
     "execution_count": 13,
     "metadata": {},
     "output_type": "execute_result"
    },
    {
     "data": {
      "image/png": "[encoded data removed]",
      "text/plain": [
       "<Figure size 1440x360 with 2 Axes>"
      ]
     },
     "metadata": {
      "needs_background": "light"
     },
     "output_type": "display_data"
    }
   ],
   "source": [
    "plt.figure(figsize=(20,5))\n",
    "sns.heatmap(dfcorr,annot=True)"
   ]
  },
  {
   "cell_type": "code",
   "execution_count": 14,
   "metadata": {},
   "outputs": [],
   "source": [
    "# features in light colors are more correlated with win like SV(saves),R(Runs)"
   ]
  },
  {
   "cell_type": "code",
   "execution_count": 15,
   "metadata": {},
   "outputs": [
    {
     "data": {
      "text/plain": [
       "<matplotlib.axes._subplots.AxesSubplot at 0x261417af5c0>"
      ]
     },
     "execution_count": 15,
     "metadata": {},
     "output_type": "execute_result"
    },
    {
     "data": {
      "image/png": "[encoded data removed]",
      "text/plain": [
       "<Figure size 432x288 with 1 Axes>"
      ]
     },
     "metadata": {
      "needs_background": "light"
     },
     "output_type": "display_data"
    }
   ],
   "source": [
    "# Univariate analysis\n",
    "sns.distplot(df['R'])"
   ]
  },
  {
   "cell_type": "code",
   "execution_count": 16,
   "metadata": {},
   "outputs": [
    {
     "data": {
      "text/plain": [
       "<seaborn.axisgrid.PairGrid at 0x261413e9240>"
      ]
     },
     "execution_count": 16,
     "metadata": {},
     "output_type": "execute_result"
    },
    {
     "data": {
      "image/png": "[encoded data removed]",
      "text/plain": [
       "<Figure size 1058.4x504 with 3 Axes>"
      ]
     },
     "metadata": {
      "needs_background": "light"
     },
     "output_type": "display_data"
    }
   ],
   "source": [
    "sns.pairplot(df, x_vars=['SV', 'R', 'BB'], y_vars='W', size=7, aspect=0.7, kind='reg')"
   ]
  },
  {
   "cell_type": "code",
   "execution_count": 17,
   "metadata": {},
   "outputs": [
    {
     "data": {
      "text/plain": [
       "<seaborn.axisgrid.PairGrid at 0x26141504ac8>"
      ]
     },
     "execution_count": 17,
     "metadata": {},
     "output_type": "execute_result"
    },
    {
     "data": {
      "image/png": "[encoded data removed]",
      "text/plain": [
       "<Figure size 1058.4x504 with 3 Axes>"
      ]
     },
     "metadata": {
      "needs_background": "light"
     },
     "output_type": "display_data"
    }
   ],
   "source": [
    "sns.pairplot(df, x_vars=['AB', 'H', '2B'], y_vars='W', size=7, aspect=0.7, kind='reg')"
   ]
  },
  {
   "cell_type": "code",
   "execution_count": 18,
   "metadata": {},
   "outputs": [],
   "source": [
    "# Saves,Runs and walks has strong impct on win"
   ]
  },
  {
   "cell_type": "code",
   "execution_count": 19,
   "metadata": {},
   "outputs": [],
   "source": [
    "# Also there are outliers which needs to be treated"
   ]
  },
  {
   "cell_type": "code",
   "execution_count": 47,
   "metadata": {},
   "outputs": [],
   "source": [
    "# we can drop highly negatively correlated columns i.e RA,ER,ERA\n",
    "df=df.drop(['RA','ER','ERA'],axis=1)"
   ]
  },
  {
   "cell_type": "code",
   "execution_count": 48,
   "metadata": {},
   "outputs": [
    {
     "data": {
      "text/plain": [
       "Index(['W', 'R', 'AB', 'H', '2B', '3B', 'HR', 'BB', 'SO', 'SB', 'CG', 'SHO',\n",
       "       'SV', 'E'],\n",
       "      dtype='object')"
      ]
     },
     "execution_count": 48,
     "metadata": {},
     "output_type": "execute_result"
    }
   ],
   "source": [
    "df.columns"
   ]
  },
  {
   "cell_type": "code",
   "execution_count": 49,
   "metadata": {},
   "outputs": [],
   "source": [
    "# Using z score method to remove outlier\n",
    "z=np.abs(zscore(df))\n",
    "df1=df[(z<3).all(axis=1)]"
   ]
  },
  {
   "cell_type": "code",
   "execution_count": 50,
   "metadata": {},
   "outputs": [
    {
     "data": {
      "text/plain": [
       "((30, 14), (29, 14))"
      ]
     },
     "execution_count": 50,
     "metadata": {},
     "output_type": "execute_result"
    }
   ],
   "source": [
    "df.shape,df1.shape"
   ]
  },
  {
   "cell_type": "code",
   "execution_count": 52,
   "metadata": {},
   "outputs": [
    {
     "data": {
      "text/plain": [
       "W      0.119013\n",
       "R     -0.215364\n",
       "AB     0.169573\n",
       "H      0.783772\n",
       "2B    -0.335304\n",
       "3B     0.090124\n",
       "HR     0.450862\n",
       "BB     0.151193\n",
       "SO    -0.233815\n",
       "SB     0.494966\n",
       "CG     0.854980\n",
       "SHO    0.526943\n",
       "SV     0.627480\n",
       "E      0.840271\n",
       "dtype: float64"
      ]
     },
     "execution_count": 52,
     "metadata": {},
     "output_type": "execute_result"
    }
   ],
   "source": [
    "# Checcking skewness of data\n",
    "skw=df1.skew()\n",
    "skw"
   ]
  },
  {
   "cell_type": "code",
   "execution_count": 53,
   "metadata": {},
   "outputs": [],
   "source": [
    "# We will separate target and rest columns\n",
    "df_x=df1.drop(columns='W')\n",
    "y=df1['W']"
   ]
  },
  {
   "cell_type": "code",
   "execution_count": 54,
   "metadata": {},
   "outputs": [],
   "source": [
    "# Scaling of data\n",
    "from sklearn.preprocessing import StandardScaler\n",
    "sc=StandardScaler()\n",
    "x=sc.fit_transform(df_x)\n",
    "x=pd.DataFrame(x,columns=df_x.columns)"
   ]
  },
  {
   "cell_type": "code",
   "execution_count": 55,
   "metadata": {},
   "outputs": [
    {
     "data": {
      "text/plain": [
       "((29, 13), (29,))"
      ]
     },
     "execution_count": 55,
     "metadata": {},
     "output_type": "execute_result"
    }
   ],
   "source": [
    "x.shape,y.shape"
   ]
  },
  {
   "cell_type": "code",
   "execution_count": 56,
   "metadata": {},
   "outputs": [],
   "source": [
    "# Finding best r_state\n",
    "def maxr2_score(lr,x,y):\n",
    "    max_r_score=0\n",
    "    for r_state in range(42,101):\n",
    "        x_train,x_test,y_train,y_test=train_test_split(x,y,test_size=0.20,random_state=r_state)\n",
    "        lr.fit(x_train,y_train)\n",
    "        pred=lr.predict(x_test)\n",
    "        r2_scr=r2_score(y_test,pred)\n",
    "        print('r2 score corresponding to random state',r_state,\" is \",r2_scr)\n",
    "        if r2_scr>max_r_score:\n",
    "            max_r_score=r2_scr\n",
    "            final_r_state=r_state\n",
    "    print('max r2 score corresponding to ', final_r_state,\" is \",max_r_score)\n",
    "    return final_r_state"
   ]
  },
  {
   "cell_type": "code",
   "execution_count": 75,
   "metadata": {},
   "outputs": [
    {
     "name": "stdout",
     "output_type": "stream",
     "text": [
      "r2 score corresponding to random state 42  is  0.7325869882954235\n",
      "r2 score corresponding to random state 43  is  -0.785132393400384\n",
      "r2 score corresponding to random state 44  is  0.5057513977245244\n",
      "r2 score corresponding to random state 45  is  0.21446409391842625\n",
      "r2 score corresponding to random state 46  is  0.684136796367924\n",
      "r2 score corresponding to random state 47  is  0.6620046532565411\n",
      "r2 score corresponding to random state 48  is  -0.3520769165122606\n",
      "r2 score corresponding to random state 49  is  -0.4917060243229776\n",
      "r2 score corresponding to random state 50  is  0.7265531287571588\n",
      "r2 score corresponding to random state 51  is  0.33495583862381506\n",
      "r2 score corresponding to random state 52  is  -0.021542902152086763\n",
      "r2 score corresponding to random state 53  is  0.3130006661999093\n",
      "r2 score corresponding to random state 54  is  -0.18284655131956162\n",
      "r2 score corresponding to random state 55  is  -0.3148417224381099\n",
      "r2 score corresponding to random state 56  is  0.18047836223353808\n",
      "r2 score corresponding to random state 57  is  0.6700758733535013\n",
      "r2 score corresponding to random state 58  is  0.4047477818402996\n",
      "r2 score corresponding to random state 59  is  0.4429221264294869\n",
      "r2 score corresponding to random state 60  is  0.26086561664300834\n",
      "r2 score corresponding to random state 61  is  0.5029281647503585\n",
      "r2 score corresponding to random state 62  is  -0.03109025411029731\n",
      "r2 score corresponding to random state 63  is  0.1395281225286824\n",
      "r2 score corresponding to random state 64  is  0.46400814561504067\n",
      "r2 score corresponding to random state 65  is  0.7538782801420247\n",
      "r2 score corresponding to random state 66  is  0.7210146928066792\n",
      "r2 score corresponding to random state 67  is  0.832132054846984\n",
      "r2 score corresponding to random state 68  is  0.7847178127940303\n",
      "r2 score corresponding to random state 69  is  0.1235413011909765\n",
      "r2 score corresponding to random state 70  is  0.6958272061189388\n",
      "r2 score corresponding to random state 71  is  -6.010796382798082\n",
      "r2 score corresponding to random state 72  is  -0.6900367914608763\n",
      "r2 score corresponding to random state 73  is  0.8791702487240541\n",
      "r2 score corresponding to random state 74  is  0.25504616154388904\n",
      "r2 score corresponding to random state 75  is  0.7428052821953899\n",
      "r2 score corresponding to random state 76  is  0.5523929049397531\n",
      "r2 score corresponding to random state 77  is  0.2117903760669848\n",
      "r2 score corresponding to random state 78  is  0.3187047365552639\n",
      "r2 score corresponding to random state 79  is  0.5432859483040473\n",
      "r2 score corresponding to random state 80  is  0.5632330023237366\n",
      "r2 score corresponding to random state 81  is  0.4874211787968641\n",
      "r2 score corresponding to random state 82  is  0.33447322917158173\n",
      "r2 score corresponding to random state 83  is  0.4722130080923619\n",
      "r2 score corresponding to random state 84  is  0.19903815297714766\n",
      "r2 score corresponding to random state 85  is  0.7893782333370669\n",
      "r2 score corresponding to random state 86  is  -0.038472387499512095\n",
      "r2 score corresponding to random state 87  is  0.12233063151757373\n",
      "r2 score corresponding to random state 88  is  -1.1949831935630404\n",
      "r2 score corresponding to random state 89  is  0.4950460681763258\n",
      "r2 score corresponding to random state 90  is  0.6457271273652929\n",
      "r2 score corresponding to random state 91  is  0.3460277307607995\n",
      "r2 score corresponding to random state 92  is  -0.17684740005734945\n",
      "r2 score corresponding to random state 93  is  -1.1110697849929805\n",
      "r2 score corresponding to random state 94  is  0.5435932779463439\n",
      "r2 score corresponding to random state 95  is  0.574157559660144\n",
      "r2 score corresponding to random state 96  is  0.8434824829756226\n",
      "r2 score corresponding to random state 97  is  0.8891019924345592\n",
      "r2 score corresponding to random state 98  is  0.14481790705283615\n",
      "r2 score corresponding to random state 99  is  0.7730018720170769\n",
      "r2 score corresponding to random state 100  is  0.15852958412367568\n",
      "max r2 score corresponding to  97  is  0.8891019924345592\n"
     ]
    }
   ],
   "source": [
    "# Lets use LinearRegression\n",
    "lr=LinearRegression()\n",
    "r_state=maxr2_score(lr,x,y)"
   ]
  },
  {
   "cell_type": "code",
   "execution_count": 76,
   "metadata": {},
   "outputs": [
    {
     "data": {
      "text/plain": [
       "{'alpha': 0.001}"
      ]
     },
     "execution_count": 76,
     "metadata": {},
     "output_type": "execute_result"
    }
   ],
   "source": [
    "# using Lasso\n",
    "from sklearn.linear_model import Lasso\n",
    "lsreg=Lasso()\n",
    "parameters={'alpha':[0.001,0.01,0.1,1]}\n",
    "clf=GridSearchCV(lsreg,parameters,cv=10)\n",
    "clf.fit(x,y)\n",
    "clf.best_params_"
   ]
  },
  {
   "cell_type": "code",
   "execution_count": 77,
   "metadata": {},
   "outputs": [
    {
     "name": "stdout",
     "output_type": "stream",
     "text": [
      "r2 score corresponding to random state 42  is  0.731473422116274\n",
      "r2 score corresponding to random state 43  is  -0.7808035361229653\n",
      "r2 score corresponding to random state 44  is  0.505465206747816\n",
      "r2 score corresponding to random state 45  is  0.2133861450694975\n",
      "r2 score corresponding to random state 46  is  0.684886134826304\n",
      "r2 score corresponding to random state 47  is  0.6632587564272059\n",
      "r2 score corresponding to random state 48  is  -0.3483606761243214\n",
      "r2 score corresponding to random state 49  is  -0.4965594901316024\n",
      "r2 score corresponding to random state 50  is  0.7267898040129914\n",
      "r2 score corresponding to random state 51  is  0.3342797918372884\n",
      "r2 score corresponding to random state 52  is  -0.022170224584529663\n",
      "r2 score corresponding to random state 53  is  0.3212016046921211\n",
      "r2 score corresponding to random state 54  is  -0.18123970182051607\n",
      "r2 score corresponding to random state 55  is  -0.30759674217506383\n",
      "r2 score corresponding to random state 56  is  0.17863301996759162\n",
      "r2 score corresponding to random state 57  is  0.6695437472871836\n",
      "r2 score corresponding to random state 58  is  0.408123047084894\n",
      "r2 score corresponding to random state 59  is  0.4428449907346742\n",
      "r2 score corresponding to random state 60  is  0.26649805752824507\n",
      "r2 score corresponding to random state 61  is  0.5021188750745018\n",
      "r2 score corresponding to random state 62  is  -0.03008522661037638\n",
      "r2 score corresponding to random state 63  is  0.14344027582403807\n",
      "r2 score corresponding to random state 64  is  0.4641361493323499\n",
      "r2 score corresponding to random state 65  is  0.7555637514824355\n",
      "r2 score corresponding to random state 66  is  0.7236356479943804\n",
      "r2 score corresponding to random state 67  is  0.8350780772108094\n",
      "r2 score corresponding to random state 68  is  0.7844678488934131\n",
      "r2 score corresponding to random state 69  is  0.1243814164810273\n",
      "r2 score corresponding to random state 70  is  0.6934505783435971\n",
      "r2 score corresponding to random state 71  is  -6.003630681790987\n",
      "r2 score corresponding to random state 72  is  -0.6892819582639187\n",
      "r2 score corresponding to random state 73  is  0.8778583079485942\n",
      "r2 score corresponding to random state 74  is  0.2602133937077632\n",
      "r2 score corresponding to random state 75  is  0.7432695352551271\n",
      "r2 score corresponding to random state 76  is  0.5554201060415107\n",
      "r2 score corresponding to random state 77  is  0.21429379272923366\n",
      "r2 score corresponding to random state 78  is  0.3230881788669423\n",
      "r2 score corresponding to random state 79  is  0.5430262290939535\n",
      "r2 score corresponding to random state 80  is  0.5628882608375507\n",
      "r2 score corresponding to random state 81  is  0.48883936662120353\n",
      "r2 score corresponding to random state 82  is  0.336770116564053\n",
      "r2 score corresponding to random state 83  is  0.47311463860174174\n",
      "r2 score corresponding to random state 84  is  0.19784439884300664\n",
      "r2 score corresponding to random state 85  is  0.7882285773328916\n",
      "r2 score corresponding to random state 86  is  -0.042798402090636456\n",
      "r2 score corresponding to random state 87  is  0.12124157708968797\n",
      "r2 score corresponding to random state 88  is  -1.1917804331669957\n",
      "r2 score corresponding to random state 89  is  0.49542730870460683\n",
      "r2 score corresponding to random state 90  is  0.6503667166271422\n",
      "r2 score corresponding to random state 91  is  0.3456409108992907\n",
      "r2 score corresponding to random state 92  is  -0.17842943683550105\n",
      "r2 score corresponding to random state 93  is  -1.103001873906523\n",
      "r2 score corresponding to random state 94  is  0.5441877506772597\n",
      "r2 score corresponding to random state 95  is  0.5758696918447963\n",
      "r2 score corresponding to random state 96  is  0.8426513697662743\n",
      "r2 score corresponding to random state 97  is  0.8900530908463604\n",
      "r2 score corresponding to random state 98  is  0.14352941922022\n",
      "r2 score corresponding to random state 99  is  0.7730322136845682\n",
      "r2 score corresponding to random state 100  is  0.16073108838352512\n",
      "max r2 score corresponding to  97  is  0.8900530908463604\n"
     ]
    }
   ],
   "source": [
    "# Lts check max r2 score \n",
    "lsreg=Lasso(alpha=0.001)\n",
    "r_state=maxr2_score(lsreg,x,y)"
   ]
  },
  {
   "cell_type": "code",
   "execution_count": 62,
   "metadata": {},
   "outputs": [
    {
     "data": {
      "text/plain": [
       "{'learning_rate': 0.001, 'n_estimators': 500}"
      ]
     },
     "execution_count": 62,
     "metadata": {},
     "output_type": "execute_result"
    }
   ],
   "source": [
    "# we will use gradient boosting Technique\n",
    "# for getting best prameters will use grid search\n",
    "from sklearn.ensemble import GradientBoostingRegressor\n",
    "gbr=GradientBoostingRegressor()\n",
    "parameters={\"learning_rate\":[0.001,0.01,0.1,1],\"n_estimators\":[10,100,500]}\n",
    "clf=GridSearchCV(gbr,parameters,cv=5)\n",
    "clf.fit(x,y)\n",
    "clf.best_params_"
   ]
  },
  {
   "cell_type": "code",
   "execution_count": 63,
   "metadata": {},
   "outputs": [
    {
     "name": "stdout",
     "output_type": "stream",
     "text": [
      "r2 score corresponding to random state 42  is  0.2733337231514107\n",
      "r2 score corresponding to random state 43  is  -0.14189088877684175\n",
      "r2 score corresponding to random state 44  is  0.3880253552989301\n",
      "r2 score corresponding to random state 45  is  0.136508401126875\n",
      "r2 score corresponding to random state 46  is  0.3671743315910049\n",
      "r2 score corresponding to random state 47  is  0.3399796102514129\n",
      "r2 score corresponding to random state 48  is  0.4139769973152214\n",
      "r2 score corresponding to random state 49  is  -1.2338166751705724\n",
      "r2 score corresponding to random state 50  is  -0.32916246601415833\n",
      "r2 score corresponding to random state 51  is  0.30071537951846794\n",
      "r2 score corresponding to random state 52  is  0.044584376764729816\n",
      "r2 score corresponding to random state 53  is  0.14750687208306779\n",
      "r2 score corresponding to random state 54  is  -0.05676230671574212\n",
      "r2 score corresponding to random state 55  is  0.26779581160517585\n",
      "r2 score corresponding to random state 56  is  -0.1728358399809069\n",
      "r2 score corresponding to random state 57  is  0.3144847787116658\n",
      "r2 score corresponding to random state 58  is  0.14787696476681145\n",
      "r2 score corresponding to random state 59  is  -0.20538610152611825\n",
      "r2 score corresponding to random state 60  is  0.2248863130739326\n",
      "r2 score corresponding to random state 61  is  0.33065588892090825\n",
      "r2 score corresponding to random state 62  is  -0.010549457074476853\n",
      "r2 score corresponding to random state 63  is  0.2528672358904279\n",
      "r2 score corresponding to random state 64  is  0.12436204956677566\n",
      "r2 score corresponding to random state 65  is  0.31581069195172096\n",
      "r2 score corresponding to random state 66  is  0.3796489227904145\n",
      "r2 score corresponding to random state 67  is  0.43828071335407004\n",
      "r2 score corresponding to random state 68  is  0.2769918192036538\n",
      "r2 score corresponding to random state 69  is  -0.3270232029727107\n",
      "r2 score corresponding to random state 70  is  -0.07296832217535898\n",
      "r2 score corresponding to random state 71  is  -0.03023938825567729\n",
      "r2 score corresponding to random state 72  is  0.42999939760881756\n",
      "r2 score corresponding to random state 73  is  0.3923031023887581\n",
      "r2 score corresponding to random state 74  is  -0.5366171273737108\n",
      "r2 score corresponding to random state 75  is  0.1080374697889237\n",
      "r2 score corresponding to random state 76  is  0.13829883575467827\n",
      "r2 score corresponding to random state 77  is  0.07588357481881991\n",
      "r2 score corresponding to random state 78  is  -0.25274458934797206\n",
      "r2 score corresponding to random state 79  is  0.44445105968657617\n",
      "r2 score corresponding to random state 80  is  0.1360132059749749\n",
      "r2 score corresponding to random state 81  is  0.2789383548325246\n",
      "r2 score corresponding to random state 82  is  0.15114031800517003\n",
      "r2 score corresponding to random state 83  is  0.35066780722278734\n",
      "r2 score corresponding to random state 84  is  0.0037939603985389647\n",
      "r2 score corresponding to random state 85  is  0.15819101559014648\n",
      "r2 score corresponding to random state 86  is  -0.5083856537483054\n",
      "r2 score corresponding to random state 87  is  -0.405756335865034\n",
      "r2 score corresponding to random state 88  is  0.4378475481515314\n",
      "r2 score corresponding to random state 89  is  0.4703053369357414\n",
      "r2 score corresponding to random state 90  is  -0.12353764253805277\n",
      "r2 score corresponding to random state 91  is  0.19149514684270452\n",
      "r2 score corresponding to random state 92  is  -0.1425481223987335\n",
      "r2 score corresponding to random state 93  is  0.2553431781365322\n",
      "r2 score corresponding to random state 94  is  0.1576379007041122\n",
      "r2 score corresponding to random state 95  is  -0.022381387007133213\n",
      "r2 score corresponding to random state 96  is  -0.1896235720659878\n",
      "r2 score corresponding to random state 97  is  0.11471019313253417\n",
      "r2 score corresponding to random state 98  is  -0.6865893511323344\n",
      "r2 score corresponding to random state 99  is  0.28613357161129116\n",
      "r2 score corresponding to random state 100  is  0.2116359669918777\n",
      "max r2 score corresponding to  89  is  0.4703053369357414\n"
     ]
    }
   ],
   "source": [
    "gbr=GradientBoostingRegressor(learning_rate=0.001,n_estimators=500)\n",
    "r_state=maxr2_score(gbr,x,y)"
   ]
  },
  {
   "cell_type": "code",
   "execution_count": 66,
   "metadata": {},
   "outputs": [
    {
     "data": {
      "text/plain": [
       "{'base_estimator': Lasso(alpha=0.001, copy_X=True, fit_intercept=True, max_iter=1000,\n",
       "       normalize=False, positive=False, precompute=False, random_state=None,\n",
       "       selection='cyclic', tol=0.0001, warm_start=False),\n",
       " 'learning_rate': 1,\n",
       " 'n_estimators': 100}"
      ]
     },
     "execution_count": 66,
     "metadata": {},
     "output_type": "execute_result"
    }
   ],
   "source": [
    "# Use adaboost\n",
    "from sklearn.ensemble import AdaBoostRegressor\n",
    "from sklearn.tree import DecisionTreeRegressor\n",
    "ada_reg=AdaBoostRegressor()\n",
    "parameters={\"learning_rate\":[0.001,0.01,0.1,1],\"n_estimators\":[10,100,500,1000],'base_estimator':[lr,lsreg,DecisionTreeRegressor()]}\n",
    "clf=GridSearchCV(ada_reg,parameters,cv=5)\n",
    "clf.fit(x,y)\n",
    "\n",
    "clf.best_params_"
   ]
  },
  {
   "cell_type": "code",
   "execution_count": 67,
   "metadata": {},
   "outputs": [
    {
     "name": "stdout",
     "output_type": "stream",
     "text": [
      "r2 score corresponding to random state 42  is  0.2802768166089965\n",
      "r2 score corresponding to random state 43  is  -0.7320940404592671\n",
      "r2 score corresponding to random state 44  is  0.33333333333333337\n",
      "r2 score corresponding to random state 45  is  -0.1859205776173285\n",
      "r2 score corresponding to random state 46  is  0.5230698949291914\n",
      "r2 score corresponding to random state 47  is  0.39392605633802824\n",
      "r2 score corresponding to random state 48  is  0.6635514018691588\n",
      "r2 score corresponding to random state 49  is  -1.228755826461097\n",
      "r2 score corresponding to random state 50  is  0.3024475524475525\n",
      "r2 score corresponding to random state 51  is  0.2100502512562814\n",
      "r2 score corresponding to random state 52  is  -0.04363419007770486\n",
      "r2 score corresponding to random state 53  is  0.568602825745683\n",
      "r2 score corresponding to random state 54  is  0.4608540925266904\n",
      "r2 score corresponding to random state 55  is  0.48499810102544627\n",
      "r2 score corresponding to random state 56  is  -0.3276709879302637\n",
      "r2 score corresponding to random state 57  is  0.4479905437352246\n",
      "r2 score corresponding to random state 58  is  -0.37013801756587195\n",
      "r2 score corresponding to random state 59  is  0.13350649350649346\n",
      "r2 score corresponding to random state 60  is  0.17583357081789674\n",
      "r2 score corresponding to random state 61  is  0.5625479662317728\n",
      "r2 score corresponding to random state 62  is  0.4296665389037946\n",
      "r2 score corresponding to random state 63  is  -0.19455370650529513\n",
      "r2 score corresponding to random state 64  is  0.5693916349809887\n",
      "r2 score corresponding to random state 65  is  0.6548223350253808\n",
      "r2 score corresponding to random state 66  is  0.4004854368932039\n",
      "r2 score corresponding to random state 67  is  0.7396265560165975\n",
      "r2 score corresponding to random state 68  is  0.4899598393574297\n",
      "r2 score corresponding to random state 69  is  0.369877594465141\n",
      "r2 score corresponding to random state 70  is  0.4508064516129032\n",
      "r2 score corresponding to random state 71  is  -3.0179372197309418\n",
      "r2 score corresponding to random state 72  is  -0.07921714818266534\n",
      "r2 score corresponding to random state 73  is  0.5197492163009405\n",
      "r2 score corresponding to random state 74  is  -0.38225255972696215\n",
      "r2 score corresponding to random state 75  is  0.2279547790339157\n",
      "r2 score corresponding to random state 76  is  0.4580123266563946\n",
      "r2 score corresponding to random state 77  is  0.1964285714285714\n",
      "r2 score corresponding to random state 78  is  0.16088117489986642\n",
      "r2 score corresponding to random state 79  is  0.2102854652429722\n",
      "r2 score corresponding to random state 80  is  0.2428185612570587\n",
      "r2 score corresponding to random state 81  is  0.33270499528746456\n",
      "r2 score corresponding to random state 82  is  0.7447778199772123\n",
      "r2 score corresponding to random state 83  is  0.6790971540726203\n",
      "r2 score corresponding to random state 84  is  0.2783964365256124\n",
      "r2 score corresponding to random state 85  is  0.5968328696768671\n",
      "r2 score corresponding to random state 86  is  0.5494584837545127\n",
      "r2 score corresponding to random state 87  is  0.6716417910447761\n",
      "r2 score corresponding to random state 88  is  0.009487666034155628\n",
      "r2 score corresponding to random state 89  is  0.6987704918032787\n",
      "r2 score corresponding to random state 90  is  0.3635955056179776\n",
      "r2 score corresponding to random state 91  is  0.3182157986543733\n",
      "r2 score corresponding to random state 92  is  -0.10076923076923072\n",
      "r2 score corresponding to random state 93  is  0.5620805369127517\n",
      "r2 score corresponding to random state 94  is  0.7606679035250464\n",
      "r2 score corresponding to random state 95  is  0.4146625290923196\n",
      "r2 score corresponding to random state 96  is  0.3163538873994638\n",
      "r2 score corresponding to random state 97  is  0.5180256472296153\n",
      "r2 score corresponding to random state 98  is  -0.34111759799833163\n",
      "r2 score corresponding to random state 99  is  0.5193008011653313\n",
      "r2 score corresponding to random state 100  is  0.07204030226700242\n",
      "max r2 score corresponding to  94  is  0.7606679035250464\n"
     ]
    }
   ],
   "source": [
    "# Decision Tree\n",
    "Dt=DecisionTreeRegressor()\n",
    "ada_reg=AdaBoostRegressor(base_estimator=Dt,learning_rate=1,n_estimators=100)\n",
    "r_state=maxr2_score(ada_reg,x,y)"
   ]
  },
  {
   "cell_type": "code",
   "execution_count": 69,
   "metadata": {},
   "outputs": [
    {
     "data": {
      "text/plain": [
       "{'n_neighbors': 5}"
      ]
     },
     "execution_count": 69,
     "metadata": {},
     "output_type": "execute_result"
    }
   ],
   "source": [
    "# To find optimum value of n_neighbours for KNN model\n",
    "from sklearn.model_selection import GridSearchCV\n",
    "from sklearn.neighbors import KNeighborsRegressor\n",
    "neighbors={\"n_neighbors\":range(1,25)}\n",
    "knr=KNeighborsRegressor()\n",
    "gknr=GridSearchCV(knr,neighbors,cv=10)\n",
    "gknr.fit(x,y)\n",
    "gknr.best_params_"
   ]
  },
  {
   "cell_type": "code",
   "execution_count": 70,
   "metadata": {},
   "outputs": [
    {
     "name": "stdout",
     "output_type": "stream",
     "text": [
      "r2 score corresponding to random state 42  is  0.629757785467128\n",
      "r2 score corresponding to random state 43  is  0.44498359759431394\n",
      "r2 score corresponding to random state 44  is  0.6204166666666666\n",
      "r2 score corresponding to random state 45  is  0.21564756317689526\n",
      "r2 score corresponding to random state 46  is  0.17736409319323887\n",
      "r2 score corresponding to random state 47  is  0.5702849911971831\n",
      "r2 score corresponding to random state 48  is  -0.09671228304405877\n",
      "r2 score corresponding to random state 49  is  -1.9779490856937967\n",
      "r2 score corresponding to random state 50  is  0.22180944055944063\n",
      "r2 score corresponding to random state 51  is  0.35113065326633164\n",
      "r2 score corresponding to random state 52  is  0.13882247459653307\n",
      "r2 score corresponding to random state 53  is  0.43343799058084775\n",
      "r2 score corresponding to random state 54  is  0.37444395017793597\n",
      "r2 score corresponding to random state 55  is  0.0030383592859855035\n",
      "r2 score corresponding to random state 56  is  0.2937527939204291\n",
      "r2 score corresponding to random state 57  is  0.5670065011820331\n",
      "r2 score corresponding to random state 58  is  0.33104611041405274\n",
      "r2 score corresponding to random state 59  is  -0.535844155844156\n",
      "r2 score corresponding to random state 60  is  0.4810487318324308\n",
      "r2 score corresponding to random state 61  is  0.49127014581734463\n",
      "r2 score corresponding to random state 62  is  -0.306678804139517\n",
      "r2 score corresponding to random state 63  is  0.38627080181543105\n",
      "r2 score corresponding to random state 64  is  0.20936311787072248\n",
      "r2 score corresponding to random state 65  is  0.505891950688905\n",
      "r2 score corresponding to random state 66  is  0.5280643203883495\n",
      "r2 score corresponding to random state 67  is  0.08454356846473032\n",
      "r2 score corresponding to random state 68  is  0.2474899598393574\n",
      "r2 score corresponding to random state 69  is  -0.2075572112825972\n",
      "r2 score corresponding to random state 70  is  0.23215725806451615\n",
      "r2 score corresponding to random state 71  is  -0.4641255605381165\n",
      "r2 score corresponding to random state 72  is  0.42753960857409135\n",
      "r2 score corresponding to random state 73  is  0.18307210031347965\n",
      "r2 score corresponding to random state 74  is  -1.7497866894197949\n",
      "r2 score corresponding to random state 75  is  0.5440647482014388\n",
      "r2 score corresponding to random state 76  is  0.6463790446841295\n",
      "r2 score corresponding to random state 77  is  0.5303199404761905\n",
      "r2 score corresponding to random state 78  is  0.14335781041388518\n",
      "r2 score corresponding to random state 79  is  0.20195031597297874\n",
      "r2 score corresponding to random state 80  is  0.4903019887061134\n",
      "r2 score corresponding to random state 81  is  0.2963890197926484\n",
      "r2 score corresponding to random state 82  is  0.549515761488796\n",
      "r2 score corresponding to random state 83  is  0.3207495093228656\n",
      "r2 score corresponding to random state 84  is  0.27964922048997765\n",
      "r2 score corresponding to random state 85  is  0.5631286111705542\n",
      "r2 score corresponding to random state 86  is  -0.9719314079422385\n",
      "r2 score corresponding to random state 87  is  0.3159203980099502\n",
      "r2 score corresponding to random state 88  is  0.5602466793168881\n",
      "r2 score corresponding to random state 89  is  -0.33478483606557385\n",
      "r2 score corresponding to random state 90  is  0.1298314606741574\n",
      "r2 score corresponding to random state 91  is  -0.3195551956142535\n",
      "r2 score corresponding to random state 92  is  0.005384615384615432\n",
      "r2 score corresponding to random state 93  is  0.2937290268456376\n",
      "r2 score corresponding to random state 94  is  -0.1829197588126159\n",
      "r2 score corresponding to random state 95  is  0.46382854926299455\n",
      "r2 score corresponding to random state 96  is  0.3562332439678284\n",
      "r2 score corresponding to random state 97  is  0.22704451971933226\n",
      "r2 score corresponding to random state 98  is  -0.5103211009174309\n",
      "r2 score corresponding to random state 99  is  0.6332620174799708\n",
      "r2 score corresponding to random state 100  is  0.27096977329974803\n",
      "max r2 score corresponding to  76  is  0.6463790446841295\n"
     ]
    }
   ],
   "source": [
    "# Lets use KNN regression model\n",
    "knr=KNeighborsRegressor(n_neighbors=4)\n",
    "r_state=maxr2_score(knr,x,y)"
   ]
  },
  {
   "cell_type": "code",
   "execution_count": 71,
   "metadata": {},
   "outputs": [],
   "source": [
    "# LASSO is the best model"
   ]
  },
  {
   "cell_type": "code",
   "execution_count": 81,
   "metadata": {},
   "outputs": [
    {
     "name": "stdout",
     "output_type": "stream",
     "text": [
      "Mean r2 score 0.0005119693682092696\n",
      "Mean r2 score -0.0012319240343066917\n"
     ]
    }
   ],
   "source": [
    "# lets check cross val score\n",
    "from sklearn.model_selection import cross_val_score\n",
    "print(\"Mean r2 score\",cross_val_score(lsreg,x,y,cv=4,scoring=\"r2\").mean())\n",
    "print(\"Mean r2 score\",cross_val_score(lr,x,y,cv=4,scoring=\"r2\").mean())"
   ]
  },
  {
   "cell_type": "code",
   "execution_count": 82,
   "metadata": {},
   "outputs": [],
   "source": [
    "x_train,x_test,y_train,y_test=train_test_split(x,y,test_size=0.20,random_state=97)"
   ]
  },
  {
   "cell_type": "raw",
   "metadata": {},
   "source": [
    "lsreg=Lasso(alpha=0.001)\n",
    "lsreg.fit(x_train,y_train)\n"
   ]
  },
  {
   "cell_type": "code",
   "execution_count": 88,
   "metadata": {},
   "outputs": [],
   "source": [
    "pred=lsreg.predict(x_test)"
   ]
  },
  {
   "cell_type": "code",
   "execution_count": 89,
   "metadata": {},
   "outputs": [
    {
     "data": {
      "text/plain": [
       "array([82.40169218, 81.26848792, 91.29852958, 98.47762748, 63.34451462,\n",
       "       79.43439971])"
      ]
     },
     "execution_count": 89,
     "metadata": {},
     "output_type": "execute_result"
    }
   ],
   "source": [
    "pred"
   ]
  },
  {
   "cell_type": "code",
   "execution_count": 90,
   "metadata": {},
   "outputs": [
    {
     "name": "stdout",
     "output_type": "stream",
     "text": [
      "r2 score 0.9824797566949592\n"
     ]
    }
   ],
   "source": [
    "print(\"r2 score\",r2_score(y_test,pred))"
   ]
  },
  {
   "cell_type": "code",
   "execution_count": 91,
   "metadata": {},
   "outputs": [
    {
     "name": "stdout",
     "output_type": "stream",
     "text": [
      "RMSE is :  1.418245841207971\n"
     ]
    }
   ],
   "source": [
    "print(\"RMSE is : \",np.sqrt(mean_squared_error(y_test,pred)))"
   ]
  },
  {
   "cell_type": "code",
   "execution_count": 92,
   "metadata": {},
   "outputs": [],
   "source": [
    "from sklearn.externals import joblib"
   ]
  },
  {
   "cell_type": "code",
   "execution_count": 93,
   "metadata": {},
   "outputs": [
    {
     "data": {
      "text/plain": [
       "['sales_predict.pkl']"
      ]
     },
     "execution_count": 93,
     "metadata": {},
     "output_type": "execute_result"
    }
   ],
   "source": [
    "joblib.dump(lsreg,\"sales_predict.pkl\")"
   ]
  },
  {
   "cell_type": "code",
   "execution_count": 94,
   "metadata": {},
   "outputs": [],
   "source": [
    "a=[pred,y_test]"
   ]
  },
  {
   "cell_type": "code",
   "execution_count": 95,
   "metadata": {},
   "outputs": [
    {
     "data": {
      "text/plain": [
       "[array([82.40169218, 81.26848792, 91.29852958, 98.47762748, 63.34451462,\n",
       "        79.43439971]), 12    85\n",
       " 2     81\n",
       " 25    92\n",
       " 17    97\n",
       " 24    63\n",
       " 7     81\n",
       " Name: W, dtype: int64]"
      ]
     },
     "execution_count": 95,
     "metadata": {},
     "output_type": "execute_result"
    }
   ],
   "source": [
    "a"
   ]
  },
  {
   "cell_type": "code",
   "execution_count": null,
   "metadata": {},
   "outputs": [],
   "source": []
  }
 ],
 "metadata": {
  "kernelspec": {
   "display_name": "Python 3",
   "language": "python",
   "name": "python3"
  },
  "language_info": {
   "codemirror_mode": {
    "name": "ipython",
    "version": 3
   },
   "file_extension": ".py",
   "mimetype": "text/x-python",
   "name": "python",
   "nbconvert_exporter": "python",
   "pygments_lexer": "ipython3",
   "version": "3.7.3"
  }
 },
 "nbformat": 4,
 "nbformat_minor": 2
}
