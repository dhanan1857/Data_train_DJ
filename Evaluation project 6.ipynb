{
 "cells": [
  {
   "cell_type": "code",
   "execution_count": 2,
   "metadata": {},
   "outputs": [],
   "source": [
    "import numpy as np\n",
    "import pandas as pd\n",
    "import matplotlib.pyplot as plt\n",
    "import seaborn as sns\n",
    "from scipy.stats import zscore\n",
    "from sklearn.linear_model import LogisticRegression\n",
    "from sklearn.linear_model import LinearRegression\n",
    "from sklearn.metrics import mean_squared_error,mean_absolute_error\n",
    "from sklearn.model_selection import train_test_split\n",
    "from sklearn.metrics import r2_score\n",
    "from sklearn.preprocessing import LabelEncoder\n",
    "from sklearn import metrics\n",
    "from sklearn.metrics import accuracy_score\n",
    "from sklearn.metrics import confusion_matrix,classification_report\n",
    "import warnings\n",
    "warnings.filterwarnings('ignore')"
   ]
  },
  {
   "cell_type": "code",
   "execution_count": 10,
   "metadata": {},
   "outputs": [],
   "source": [
    "df=pd.read_csv('https://raw.githubusercontent.com/dsrscientist/DSData/master/Advertising.csv',index_col=0)"
   ]
  },
  {
   "cell_type": "code",
   "execution_count": 11,
   "metadata": {},
   "outputs": [
    {
     "data": {
      "text/html": [
       "<div>\n",
       "<style scoped>\n",
       "    .dataframe tbody tr th:only-of-type {\n",
       "        vertical-align: middle;\n",
       "    }\n",
       "\n",
       "    .dataframe tbody tr th {\n",
       "        vertical-align: top;\n",
       "    }\n",
       "\n",
       "    .dataframe thead th {\n",
       "        text-align: right;\n",
       "    }\n",
       "</style>\n",
       "<table border=\"1\" class=\"dataframe\">\n",
       "  <thead>\n",
       "    <tr style=\"text-align: right;\">\n",
       "      <th></th>\n",
       "      <th>TV</th>\n",
       "      <th>radio</th>\n",
       "      <th>newspaper</th>\n",
       "      <th>sales</th>\n",
       "    </tr>\n",
       "  </thead>\n",
       "  <tbody>\n",
       "    <tr>\n",
       "      <th>1</th>\n",
       "      <td>230.1</td>\n",
       "      <td>37.8</td>\n",
       "      <td>69.2</td>\n",
       "      <td>22.1</td>\n",
       "    </tr>\n",
       "    <tr>\n",
       "      <th>2</th>\n",
       "      <td>44.5</td>\n",
       "      <td>39.3</td>\n",
       "      <td>45.1</td>\n",
       "      <td>10.4</td>\n",
       "    </tr>\n",
       "    <tr>\n",
       "      <th>3</th>\n",
       "      <td>17.2</td>\n",
       "      <td>45.9</td>\n",
       "      <td>69.3</td>\n",
       "      <td>9.3</td>\n",
       "    </tr>\n",
       "    <tr>\n",
       "      <th>4</th>\n",
       "      <td>151.5</td>\n",
       "      <td>41.3</td>\n",
       "      <td>58.5</td>\n",
       "      <td>18.5</td>\n",
       "    </tr>\n",
       "    <tr>\n",
       "      <th>5</th>\n",
       "      <td>180.8</td>\n",
       "      <td>10.8</td>\n",
       "      <td>58.4</td>\n",
       "      <td>12.9</td>\n",
       "    </tr>\n",
       "  </tbody>\n",
       "</table>\n",
       "</div>"
      ],
      "text/plain": [
       "      TV  radio  newspaper  sales\n",
       "1  230.1   37.8       69.2   22.1\n",
       "2   44.5   39.3       45.1   10.4\n",
       "3   17.2   45.9       69.3    9.3\n",
       "4  151.5   41.3       58.5   18.5\n",
       "5  180.8   10.8       58.4   12.9"
      ]
     },
     "execution_count": 11,
     "metadata": {},
     "output_type": "execute_result"
    }
   ],
   "source": [
    "df.head()"
   ]
  },
  {
   "cell_type": "code",
   "execution_count": 16,
   "metadata": {},
   "outputs": [
    {
     "data": {
      "text/html": [
       "<div>\n",
       "<style scoped>\n",
       "    .dataframe tbody tr th:only-of-type {\n",
       "        vertical-align: middle;\n",
       "    }\n",
       "\n",
       "    .dataframe tbody tr th {\n",
       "        vertical-align: top;\n",
       "    }\n",
       "\n",
       "    .dataframe thead th {\n",
       "        text-align: right;\n",
       "    }\n",
       "</style>\n",
       "<table border=\"1\" class=\"dataframe\">\n",
       "  <thead>\n",
       "    <tr style=\"text-align: right;\">\n",
       "      <th></th>\n",
       "      <th>TV</th>\n",
       "      <th>radio</th>\n",
       "      <th>newspaper</th>\n",
       "      <th>sales</th>\n",
       "    </tr>\n",
       "  </thead>\n",
       "  <tbody>\n",
       "    <tr>\n",
       "      <th>count</th>\n",
       "      <td>200.000000</td>\n",
       "      <td>200.000000</td>\n",
       "      <td>200.000000</td>\n",
       "      <td>200.000000</td>\n",
       "    </tr>\n",
       "    <tr>\n",
       "      <th>mean</th>\n",
       "      <td>147.042500</td>\n",
       "      <td>23.264000</td>\n",
       "      <td>30.554000</td>\n",
       "      <td>14.022500</td>\n",
       "    </tr>\n",
       "    <tr>\n",
       "      <th>std</th>\n",
       "      <td>85.854236</td>\n",
       "      <td>14.846809</td>\n",
       "      <td>21.778621</td>\n",
       "      <td>5.217457</td>\n",
       "    </tr>\n",
       "    <tr>\n",
       "      <th>min</th>\n",
       "      <td>0.700000</td>\n",
       "      <td>0.000000</td>\n",
       "      <td>0.300000</td>\n",
       "      <td>1.600000</td>\n",
       "    </tr>\n",
       "    <tr>\n",
       "      <th>25%</th>\n",
       "      <td>74.375000</td>\n",
       "      <td>9.975000</td>\n",
       "      <td>12.750000</td>\n",
       "      <td>10.375000</td>\n",
       "    </tr>\n",
       "    <tr>\n",
       "      <th>50%</th>\n",
       "      <td>149.750000</td>\n",
       "      <td>22.900000</td>\n",
       "      <td>25.750000</td>\n",
       "      <td>12.900000</td>\n",
       "    </tr>\n",
       "    <tr>\n",
       "      <th>75%</th>\n",
       "      <td>218.825000</td>\n",
       "      <td>36.525000</td>\n",
       "      <td>45.100000</td>\n",
       "      <td>17.400000</td>\n",
       "    </tr>\n",
       "    <tr>\n",
       "      <th>max</th>\n",
       "      <td>296.400000</td>\n",
       "      <td>49.600000</td>\n",
       "      <td>114.000000</td>\n",
       "      <td>27.000000</td>\n",
       "    </tr>\n",
       "  </tbody>\n",
       "</table>\n",
       "</div>"
      ],
      "text/plain": [
       "               TV       radio   newspaper       sales\n",
       "count  200.000000  200.000000  200.000000  200.000000\n",
       "mean   147.042500   23.264000   30.554000   14.022500\n",
       "std     85.854236   14.846809   21.778621    5.217457\n",
       "min      0.700000    0.000000    0.300000    1.600000\n",
       "25%     74.375000    9.975000   12.750000   10.375000\n",
       "50%    149.750000   22.900000   25.750000   12.900000\n",
       "75%    218.825000   36.525000   45.100000   17.400000\n",
       "max    296.400000   49.600000  114.000000   27.000000"
      ]
     },
     "execution_count": 16,
     "metadata": {},
     "output_type": "execute_result"
    }
   ],
   "source": [
    "df.describe()"
   ]
  },
  {
   "cell_type": "code",
   "execution_count": 15,
   "metadata": {},
   "outputs": [
    {
     "data": {
      "text/plain": [
       "TV           0\n",
       "radio        0\n",
       "newspaper    0\n",
       "sales        0\n",
       "dtype: int64"
      ]
     },
     "execution_count": 15,
     "metadata": {},
     "output_type": "execute_result"
    }
   ],
   "source": [
    "# To  find missing values\n",
    "df.isnull().sum()"
   ]
  },
  {
   "cell_type": "code",
   "execution_count": 57,
   "metadata": {},
   "outputs": [],
   "source": [
    "# No Null values found"
   ]
  },
  {
   "cell_type": "code",
   "execution_count": 14,
   "metadata": {},
   "outputs": [
    {
     "data": {
      "text/plain": [
       "TV           float64\n",
       "radio        float64\n",
       "newspaper    float64\n",
       "sales        float64\n",
       "dtype: object"
      ]
     },
     "execution_count": 14,
     "metadata": {},
     "output_type": "execute_result"
    }
   ],
   "source": [
    "# Check data type\n",
    "df.dtypes"
   ]
  },
  {
   "cell_type": "code",
   "execution_count": 12,
   "metadata": {},
   "outputs": [
    {
     "data": {
      "text/html": [
       "<div>\n",
       "<style scoped>\n",
       "    .dataframe tbody tr th:only-of-type {\n",
       "        vertical-align: middle;\n",
       "    }\n",
       "\n",
       "    .dataframe tbody tr th {\n",
       "        vertical-align: top;\n",
       "    }\n",
       "\n",
       "    .dataframe thead th {\n",
       "        text-align: right;\n",
       "    }\n",
       "</style>\n",
       "<table border=\"1\" class=\"dataframe\">\n",
       "  <thead>\n",
       "    <tr style=\"text-align: right;\">\n",
       "      <th></th>\n",
       "      <th>TV</th>\n",
       "      <th>radio</th>\n",
       "      <th>newspaper</th>\n",
       "      <th>sales</th>\n",
       "    </tr>\n",
       "  </thead>\n",
       "  <tbody>\n",
       "    <tr>\n",
       "      <th>1</th>\n",
       "      <td>230.1</td>\n",
       "      <td>37.8</td>\n",
       "      <td>69.2</td>\n",
       "      <td>22.1</td>\n",
       "    </tr>\n",
       "    <tr>\n",
       "      <th>2</th>\n",
       "      <td>44.5</td>\n",
       "      <td>39.3</td>\n",
       "      <td>45.1</td>\n",
       "      <td>10.4</td>\n",
       "    </tr>\n",
       "    <tr>\n",
       "      <th>3</th>\n",
       "      <td>17.2</td>\n",
       "      <td>45.9</td>\n",
       "      <td>69.3</td>\n",
       "      <td>9.3</td>\n",
       "    </tr>\n",
       "    <tr>\n",
       "      <th>4</th>\n",
       "      <td>151.5</td>\n",
       "      <td>41.3</td>\n",
       "      <td>58.5</td>\n",
       "      <td>18.5</td>\n",
       "    </tr>\n",
       "    <tr>\n",
       "      <th>5</th>\n",
       "      <td>180.8</td>\n",
       "      <td>10.8</td>\n",
       "      <td>58.4</td>\n",
       "      <td>12.9</td>\n",
       "    </tr>\n",
       "  </tbody>\n",
       "</table>\n",
       "</div>"
      ],
      "text/plain": [
       "      TV  radio  newspaper  sales\n",
       "1  230.1   37.8       69.2   22.1\n",
       "2   44.5   39.3       45.1   10.4\n",
       "3   17.2   45.9       69.3    9.3\n",
       "4  151.5   41.3       58.5   18.5\n",
       "5  180.8   10.8       58.4   12.9"
      ]
     },
     "execution_count": 12,
     "metadata": {},
     "output_type": "execute_result"
    }
   ],
   "source": [
    "df.head()"
   ]
  },
  {
   "cell_type": "markdown",
   "metadata": {},
   "source": [
    "To Check Cooreltion"
   ]
  },
  {
   "cell_type": "code",
   "execution_count": 17,
   "metadata": {},
   "outputs": [],
   "source": [
    "dfcorr=df.corr()"
   ]
  },
  {
   "cell_type": "code",
   "execution_count": 18,
   "metadata": {},
   "outputs": [
    {
     "data": {
      "text/html": [
       "<div>\n",
       "<style scoped>\n",
       "    .dataframe tbody tr th:only-of-type {\n",
       "        vertical-align: middle;\n",
       "    }\n",
       "\n",
       "    .dataframe tbody tr th {\n",
       "        vertical-align: top;\n",
       "    }\n",
       "\n",
       "    .dataframe thead th {\n",
       "        text-align: right;\n",
       "    }\n",
       "</style>\n",
       "<table border=\"1\" class=\"dataframe\">\n",
       "  <thead>\n",
       "    <tr style=\"text-align: right;\">\n",
       "      <th></th>\n",
       "      <th>TV</th>\n",
       "      <th>radio</th>\n",
       "      <th>newspaper</th>\n",
       "      <th>sales</th>\n",
       "    </tr>\n",
       "  </thead>\n",
       "  <tbody>\n",
       "    <tr>\n",
       "      <th>TV</th>\n",
       "      <td>1.000000</td>\n",
       "      <td>0.054809</td>\n",
       "      <td>0.056648</td>\n",
       "      <td>0.782224</td>\n",
       "    </tr>\n",
       "    <tr>\n",
       "      <th>radio</th>\n",
       "      <td>0.054809</td>\n",
       "      <td>1.000000</td>\n",
       "      <td>0.354104</td>\n",
       "      <td>0.576223</td>\n",
       "    </tr>\n",
       "    <tr>\n",
       "      <th>newspaper</th>\n",
       "      <td>0.056648</td>\n",
       "      <td>0.354104</td>\n",
       "      <td>1.000000</td>\n",
       "      <td>0.228299</td>\n",
       "    </tr>\n",
       "    <tr>\n",
       "      <th>sales</th>\n",
       "      <td>0.782224</td>\n",
       "      <td>0.576223</td>\n",
       "      <td>0.228299</td>\n",
       "      <td>1.000000</td>\n",
       "    </tr>\n",
       "  </tbody>\n",
       "</table>\n",
       "</div>"
      ],
      "text/plain": [
       "                 TV     radio  newspaper     sales\n",
       "TV         1.000000  0.054809   0.056648  0.782224\n",
       "radio      0.054809  1.000000   0.354104  0.576223\n",
       "newspaper  0.056648  0.354104   1.000000  0.228299\n",
       "sales      0.782224  0.576223   0.228299  1.000000"
      ]
     },
     "execution_count": 18,
     "metadata": {},
     "output_type": "execute_result"
    }
   ],
   "source": [
    "dfcorr"
   ]
  },
  {
   "cell_type": "code",
   "execution_count": 19,
   "metadata": {},
   "outputs": [
    {
     "data": {
      "text/plain": [
       "<matplotlib.axes._subplots.AxesSubplot at 0x200f3d284e0>"
      ]
     },
     "execution_count": 19,
     "metadata": {},
     "output_type": "execute_result"
    },
    {
     "data": {
      "image/png": "[encoded data removed]",
      "text/plain": [
       "<Figure size 432x288 with 2 Axes>"
      ]
     },
     "metadata": {
      "needs_background": "light"
     },
     "output_type": "display_data"
    }
   ],
   "source": [
    "sns.heatmap(dfcorr,annot=True)"
   ]
  },
  {
   "cell_type": "code",
   "execution_count": 20,
   "metadata": {},
   "outputs": [],
   "source": [
    "# Tv advertisement has high impact on sales whereas newspaper has lowest."
   ]
  },
  {
   "cell_type": "code",
   "execution_count": 21,
   "metadata": {},
   "outputs": [
    {
     "data": {
      "text/plain": [
       "<matplotlib.axes._subplots.AxesSubplot at 0x200f3e422b0>"
      ]
     },
     "execution_count": 21,
     "metadata": {},
     "output_type": "execute_result"
    },
    {
     "data": {
      "image/png": "[encoded data removed]",
      "text/plain": [
       "<Figure size 432x288 with 1 Axes>"
      ]
     },
     "metadata": {
      "needs_background": "light"
     },
     "output_type": "display_data"
    }
   ],
   "source": [
    "# To check distribution of skewness\n",
    "sns.distplot(df['TV'])"
   ]
  },
  {
   "cell_type": "code",
   "execution_count": 22,
   "metadata": {},
   "outputs": [
    {
     "data": {
      "text/plain": [
       "<matplotlib.axes._subplots.AxesSubplot at 0x200f4121048>"
      ]
     },
     "execution_count": 22,
     "metadata": {},
     "output_type": "execute_result"
    },
    {
     "data": {
      "image/png": "[encoded data removed]",
      "text/plain": [
       "<Figure size 432x288 with 1 Axes>"
      ]
     },
     "metadata": {
      "needs_background": "light"
     },
     "output_type": "display_data"
    }
   ],
   "source": [
    "sns.distplot(df['radio'])"
   ]
  },
  {
   "cell_type": "code",
   "execution_count": 23,
   "metadata": {},
   "outputs": [
    {
     "data": {
      "text/plain": [
       "<matplotlib.axes._subplots.AxesSubplot at 0x200f4165128>"
      ]
     },
     "execution_count": 23,
     "metadata": {},
     "output_type": "execute_result"
    },
    {
     "data": {
      "image/png": "[encoded data removed]",
      "text/plain": [
       "<Figure size 432x288 with 1 Axes>"
      ]
     },
     "metadata": {
      "needs_background": "light"
     },
     "output_type": "display_data"
    }
   ],
   "source": [
    "sns.distplot(df['newspaper'])"
   ]
  },
  {
   "cell_type": "code",
   "execution_count": 24,
   "metadata": {},
   "outputs": [
    {
     "data": {
      "text/plain": [
       "<seaborn.axisgrid.PairGrid at 0x200f421ce48>"
      ]
     },
     "execution_count": 24,
     "metadata": {},
     "output_type": "execute_result"
    },
    {
     "data": {
      "image/png": "[encoded data removed]",
      "text/plain": [
       "<Figure size 720x720 with 20 Axes>"
      ]
     },
     "metadata": {
      "needs_background": "light"
     },
     "output_type": "display_data"
    }
   ],
   "source": [
    "sns.pairplot(df)"
   ]
  },
  {
   "cell_type": "code",
   "execution_count": 27,
   "metadata": {},
   "outputs": [
    {
     "data": {
      "text/plain": [
       "<seaborn.axisgrid.PairGrid at 0x200f4fc60b8>"
      ]
     },
     "execution_count": 27,
     "metadata": {},
     "output_type": "execute_result"
    },
    {
     "data": {
      "image/png": "[encoded data removed]",
      "text/plain": [
       "<Figure size 1058.4x504 with 3 Axes>"
      ]
     },
     "metadata": {
      "needs_background": "light"
     },
     "output_type": "display_data"
    }
   ],
   "source": [
    "sns.pairplot(df, x_vars=['TV', 'radio', 'newspaper'], y_vars='sales', size=7, aspect=0.7, kind='reg')"
   ]
  },
  {
   "cell_type": "code",
   "execution_count": null,
   "metadata": {},
   "outputs": [],
   "source": [
    "# TV ads has strong impact on sales."
   ]
  },
  {
   "cell_type": "code",
   "execution_count": null,
   "metadata": {},
   "outputs": [],
   "source": [
    "# Nonegatively skewed data"
   ]
  },
  {
   "cell_type": "code",
   "execution_count": 28,
   "metadata": {},
   "outputs": [
    {
     "data": {
      "text/plain": [
       "<matplotlib.axes._subplots.AxesSubplot at 0x200f4e6b4e0>"
      ]
     },
     "execution_count": 28,
     "metadata": {},
     "output_type": "execute_result"
    },
    {
     "data": {
      "image/png": "[encoded data removed]",
      "text/plain": [
       "<Figure size 432x288 with 1 Axes>"
      ]
     },
     "metadata": {
      "needs_background": "light"
     },
     "output_type": "display_data"
    }
   ],
   "source": [
    "# Univariate analysis\n",
    "# Lets check for columns\n",
    "df['TV'].plot.box()"
   ]
  },
  {
   "cell_type": "code",
   "execution_count": 31,
   "metadata": {},
   "outputs": [
    {
     "data": {
      "text/plain": [
       "<matplotlib.axes._subplots.AxesSubplot at 0x200f4f41b70>"
      ]
     },
     "execution_count": 31,
     "metadata": {},
     "output_type": "execute_result"
    },
    {
     "data": {
      "image/png": "[encoded data removed]",
      "text/plain": [
       "<Figure size 432x288 with 1 Axes>"
      ]
     },
     "metadata": {
      "needs_background": "light"
     },
     "output_type": "display_data"
    }
   ],
   "source": [
    "df['radio'].plot.box()"
   ]
  },
  {
   "cell_type": "code",
   "execution_count": 32,
   "metadata": {},
   "outputs": [
    {
     "data": {
      "text/plain": [
       "<matplotlib.axes._subplots.AxesSubplot at 0x200f4f8b6a0>"
      ]
     },
     "execution_count": 32,
     "metadata": {},
     "output_type": "execute_result"
    },
    {
     "data": {
      "image/png": "[encoded data removed]",
      "text/plain": [
       "<Figure size 432x288 with 1 Axes>"
      ]
     },
     "metadata": {
      "needs_background": "light"
     },
     "output_type": "display_data"
    }
   ],
   "source": [
    "df['newspaper'].plot.box() # newspaper has outlier"
   ]
  },
  {
   "cell_type": "code",
   "execution_count": 78,
   "metadata": {},
   "outputs": [],
   "source": [
    "# Bivariate analysis"
   ]
  },
  {
   "cell_type": "code",
   "execution_count": 30,
   "metadata": {},
   "outputs": [
    {
     "data": {
      "text/plain": [
       "<matplotlib.axes._subplots.AxesSubplot at 0x200f4eca780>"
      ]
     },
     "execution_count": 30,
     "metadata": {},
     "output_type": "execute_result"
    },
    {
     "data": {
      "image/png": "[encoded data removed]",
      "text/plain": [
       "<Figure size 432x288 with 1 Axes>"
      ]
     },
     "metadata": {
      "needs_background": "light"
     },
     "output_type": "display_data"
    }
   ],
   "source": [
    "df.plot.scatter('TV','radio')"
   ]
  },
  {
   "cell_type": "code",
   "execution_count": 33,
   "metadata": {},
   "outputs": [
    {
     "data": {
      "text/plain": [
       "TV           float64\n",
       "radio        float64\n",
       "newspaper    float64\n",
       "sales        float64\n",
       "dtype: object"
      ]
     },
     "execution_count": 33,
     "metadata": {},
     "output_type": "execute_result"
    }
   ],
   "source": [
    "df.dtypes"
   ]
  },
  {
   "cell_type": "code",
   "execution_count": 76,
   "metadata": {},
   "outputs": [],
   "source": [
    "# Using z score method to remove outlier\n",
    "z=np.abs(zscore(df))\n",
    "df1=df[(z<3).all(axis=1)]"
   ]
  },
  {
   "cell_type": "code",
   "execution_count": 77,
   "metadata": {},
   "outputs": [
    {
     "data": {
      "text/plain": [
       "((200, 4), (198, 4))"
      ]
     },
     "execution_count": 77,
     "metadata": {},
     "output_type": "execute_result"
    }
   ],
   "source": [
    "df.shape,df1.shape"
   ]
  },
  {
   "cell_type": "code",
   "execution_count": 78,
   "metadata": {},
   "outputs": [
    {
     "data": {
      "text/plain": [
       "TV          -0.082332\n",
       "radio        0.114842\n",
       "newspaper    0.650112\n",
       "sales        0.407130\n",
       "dtype: float64"
      ]
     },
     "execution_count": 78,
     "metadata": {},
     "output_type": "execute_result"
    }
   ],
   "source": [
    "# Checcking skewness of data\n",
    "skw=df1.skew()\n",
    "skw"
   ]
  },
  {
   "cell_type": "code",
   "execution_count": 79,
   "metadata": {},
   "outputs": [
    {
     "data": {
      "text/html": [
       "<div>\n",
       "<style scoped>\n",
       "    .dataframe tbody tr th:only-of-type {\n",
       "        vertical-align: middle;\n",
       "    }\n",
       "\n",
       "    .dataframe tbody tr th {\n",
       "        vertical-align: top;\n",
       "    }\n",
       "\n",
       "    .dataframe thead th {\n",
       "        text-align: right;\n",
       "    }\n",
       "</style>\n",
       "<table border=\"1\" class=\"dataframe\">\n",
       "  <thead>\n",
       "    <tr style=\"text-align: right;\">\n",
       "      <th></th>\n",
       "      <th>TV</th>\n",
       "      <th>radio</th>\n",
       "      <th>newspaper</th>\n",
       "      <th>sales</th>\n",
       "    </tr>\n",
       "  </thead>\n",
       "  <tbody>\n",
       "    <tr>\n",
       "      <th>1</th>\n",
       "      <td>230.1</td>\n",
       "      <td>37.8</td>\n",
       "      <td>69.2</td>\n",
       "      <td>22.1</td>\n",
       "    </tr>\n",
       "    <tr>\n",
       "      <th>2</th>\n",
       "      <td>44.5</td>\n",
       "      <td>39.3</td>\n",
       "      <td>45.1</td>\n",
       "      <td>10.4</td>\n",
       "    </tr>\n",
       "    <tr>\n",
       "      <th>3</th>\n",
       "      <td>17.2</td>\n",
       "      <td>45.9</td>\n",
       "      <td>69.3</td>\n",
       "      <td>9.3</td>\n",
       "    </tr>\n",
       "    <tr>\n",
       "      <th>4</th>\n",
       "      <td>151.5</td>\n",
       "      <td>41.3</td>\n",
       "      <td>58.5</td>\n",
       "      <td>18.5</td>\n",
       "    </tr>\n",
       "    <tr>\n",
       "      <th>5</th>\n",
       "      <td>180.8</td>\n",
       "      <td>10.8</td>\n",
       "      <td>58.4</td>\n",
       "      <td>12.9</td>\n",
       "    </tr>\n",
       "  </tbody>\n",
       "</table>\n",
       "</div>"
      ],
      "text/plain": [
       "      TV  radio  newspaper  sales\n",
       "1  230.1   37.8       69.2   22.1\n",
       "2   44.5   39.3       45.1   10.4\n",
       "3   17.2   45.9       69.3    9.3\n",
       "4  151.5   41.3       58.5   18.5\n",
       "5  180.8   10.8       58.4   12.9"
      ]
     },
     "execution_count": 79,
     "metadata": {},
     "output_type": "execute_result"
    }
   ],
   "source": [
    "df1.head()"
   ]
  },
  {
   "cell_type": "code",
   "execution_count": 80,
   "metadata": {},
   "outputs": [],
   "source": [
    "# We will separate target and rest columns\n",
    "df_x=df1.drop(columns='sales')\n",
    "y=df1['sales']"
   ]
  },
  {
   "cell_type": "code",
   "execution_count": 81,
   "metadata": {},
   "outputs": [],
   "source": [
    "# Scaling of data\n",
    "from sklearn.preprocessing import StandardScaler\n",
    "sc=StandardScaler()\n",
    "x=sc.fit_transform(df_x)\n",
    "x=pd.DataFrame(x,columns=df_x.columns)"
   ]
  },
  {
   "cell_type": "code",
   "execution_count": 82,
   "metadata": {},
   "outputs": [
    {
     "data": {
      "text/plain": [
       "((198, 3), (198,))"
      ]
     },
     "execution_count": 82,
     "metadata": {},
     "output_type": "execute_result"
    }
   ],
   "source": [
    "x.shape,y.shape"
   ]
  },
  {
   "cell_type": "code",
   "execution_count": 83,
   "metadata": {},
   "outputs": [
    {
     "data": {
      "text/plain": [
       "Index(['TV', 'radio', 'newspaper'], dtype='object')"
      ]
     },
     "execution_count": 83,
     "metadata": {},
     "output_type": "execute_result"
    }
   ],
   "source": [
    "x.columns"
   ]
  },
  {
   "cell_type": "code",
   "execution_count": 85,
   "metadata": {},
   "outputs": [],
   "source": [
    "# Finding best r_state\n",
    "def maxr2_score(lr,x,y):\n",
    "    max_r_score=0\n",
    "    for r_state in range(42,101):\n",
    "        x_train,x_test,y_train,y_test=train_test_split(x,y,test_size=0.20,random_state=r_state)\n",
    "        lr.fit(x_train,y_train)\n",
    "        pred=lr.predict(x_test)\n",
    "        r2_scr=r2_score(y_test,pred)\n",
    "        print('r2 score corresponding to random state',r_state,\" is \",r2_scr)\n",
    "        if r2_scr>max_r_score:\n",
    "            max_r_score=r2_scr\n",
    "            final_r_state=r_state\n",
    "    print('max r2 score corresponding to ', final_r_state,\" is \",max_r_score)\n",
    "    return final_r_state"
   ]
  },
  {
   "cell_type": "code",
   "execution_count": 86,
   "metadata": {},
   "outputs": [
    {
     "name": "stdout",
     "output_type": "stream",
     "text": [
      "r2 score corresponding to random state 42  is  0.8989454779619588\n",
      "r2 score corresponding to random state 43  is  0.8751484803695657\n",
      "r2 score corresponding to random state 44  is  0.8117000632290441\n",
      "r2 score corresponding to random state 45  is  0.8747422037972019\n",
      "r2 score corresponding to random state 46  is  0.8726271917983103\n",
      "r2 score corresponding to random state 47  is  0.8922946750347811\n",
      "r2 score corresponding to random state 48  is  0.866237899668671\n",
      "r2 score corresponding to random state 49  is  0.8351144932670392\n",
      "r2 score corresponding to random state 50  is  0.8429785403092693\n",
      "r2 score corresponding to random state 51  is  0.8969749608189316\n",
      "r2 score corresponding to random state 52  is  0.8925145995117169\n",
      "r2 score corresponding to random state 53  is  0.8524939615808071\n",
      "r2 score corresponding to random state 54  is  0.8776799027550092\n",
      "r2 score corresponding to random state 55  is  0.8977109139390169\n",
      "r2 score corresponding to random state 56  is  0.8436665154822788\n",
      "r2 score corresponding to random state 57  is  0.8652060367319568\n",
      "r2 score corresponding to random state 58  is  0.930113922012518\n",
      "r2 score corresponding to random state 59  is  0.9184306555712066\n",
      "r2 score corresponding to random state 60  is  0.8823000359749914\n",
      "r2 score corresponding to random state 61  is  0.8532975619375343\n",
      "r2 score corresponding to random state 62  is  0.8571507573921291\n",
      "r2 score corresponding to random state 63  is  0.8972874269449632\n",
      "r2 score corresponding to random state 64  is  0.9267279065103222\n",
      "r2 score corresponding to random state 65  is  0.8825466552554457\n",
      "r2 score corresponding to random state 66  is  0.8744920660734806\n",
      "r2 score corresponding to random state 67  is  0.9057874401170471\n",
      "r2 score corresponding to random state 68  is  0.8617429493016013\n",
      "r2 score corresponding to random state 69  is  0.906070694321867\n",
      "r2 score corresponding to random state 70  is  0.9265656652996626\n",
      "r2 score corresponding to random state 71  is  0.8071830117377917\n",
      "r2 score corresponding to random state 72  is  0.9212755833741663\n",
      "r2 score corresponding to random state 73  is  0.8849214355996005\n",
      "r2 score corresponding to random state 74  is  0.9298308020128561\n",
      "r2 score corresponding to random state 75  is  0.8756772369429391\n",
      "r2 score corresponding to random state 76  is  0.851612626570941\n",
      "r2 score corresponding to random state 77  is  0.9166905563751221\n",
      "r2 score corresponding to random state 78  is  0.790234402720306\n",
      "r2 score corresponding to random state 79  is  0.9014406236580841\n",
      "r2 score corresponding to random state 80  is  0.9037187128234276\n",
      "r2 score corresponding to random state 81  is  0.9199455602534609\n",
      "r2 score corresponding to random state 82  is  0.839876824043998\n",
      "r2 score corresponding to random state 83  is  0.8791148089196503\n",
      "r2 score corresponding to random state 84  is  0.9292654473438203\n",
      "r2 score corresponding to random state 85  is  0.7705544702687278\n",
      "r2 score corresponding to random state 86  is  0.9047661303024037\n",
      "r2 score corresponding to random state 87  is  0.8087421010289435\n",
      "r2 score corresponding to random state 88  is  0.8837353565017301\n",
      "r2 score corresponding to random state 89  is  0.8458421248110118\n",
      "r2 score corresponding to random state 90  is  0.9477136584598765\n",
      "r2 score corresponding to random state 91  is  0.8986272987144844\n",
      "r2 score corresponding to random state 92  is  0.8937806772897253\n",
      "r2 score corresponding to random state 93  is  0.8435303584836114\n",
      "r2 score corresponding to random state 94  is  0.8679025522688202\n",
      "r2 score corresponding to random state 95  is  0.8479116409360149\n",
      "r2 score corresponding to random state 96  is  0.854981902005895\n",
      "r2 score corresponding to random state 97  is  0.897572426046094\n",
      "r2 score corresponding to random state 98  is  0.8382459156006744\n",
      "r2 score corresponding to random state 99  is  0.9300192208914474\n",
      "r2 score corresponding to random state 100  is  0.8556177767066226\n",
      "max r2 score corresponding to  90  is  0.9477136584598765\n"
     ]
    }
   ],
   "source": [
    "# Lets use LinearRegression\n",
    "lr=LinearRegression()\n",
    "r_state=maxr2_score(lr,x,y)"
   ]
  },
  {
   "cell_type": "code",
   "execution_count": 87,
   "metadata": {},
   "outputs": [
    {
     "data": {
      "text/plain": [
       "{'n_neighbors': 4}"
      ]
     },
     "execution_count": 87,
     "metadata": {},
     "output_type": "execute_result"
    }
   ],
   "source": [
    "# To find optimum value of n_neighbours for KNN model\n",
    "from sklearn.model_selection import GridSearchCV\n",
    "from sklearn.neighbors import KNeighborsRegressor\n",
    "neighbors={\"n_neighbors\":range(1,30)}\n",
    "knr=KNeighborsRegressor()\n",
    "gknr=GridSearchCV(knr,neighbors,cv=10)\n",
    "gknr.fit(x,y)\n",
    "gknr.best_params_"
   ]
  },
  {
   "cell_type": "code",
   "execution_count": 88,
   "metadata": {},
   "outputs": [
    {
     "name": "stdout",
     "output_type": "stream",
     "text": [
      "r2 score corresponding to random state 42  is  0.9357149671313382\n",
      "r2 score corresponding to random state 43  is  0.9327876926693458\n",
      "r2 score corresponding to random state 44  is  0.9267724536317711\n",
      "r2 score corresponding to random state 45  is  0.9086023350161672\n",
      "r2 score corresponding to random state 46  is  0.9021706810143139\n",
      "r2 score corresponding to random state 47  is  0.9450754310751618\n",
      "r2 score corresponding to random state 48  is  0.9273540269700297\n",
      "r2 score corresponding to random state 49  is  0.9192521343277706\n",
      "r2 score corresponding to random state 50  is  0.943788389154849\n",
      "r2 score corresponding to random state 51  is  0.9210612630483748\n",
      "r2 score corresponding to random state 52  is  0.9658710017369763\n",
      "r2 score corresponding to random state 53  is  0.8957877746975467\n",
      "r2 score corresponding to random state 54  is  0.9363433815179443\n",
      "r2 score corresponding to random state 55  is  0.9328271051139083\n",
      "r2 score corresponding to random state 56  is  0.8929406220782272\n",
      "r2 score corresponding to random state 57  is  0.9075507910153975\n",
      "r2 score corresponding to random state 58  is  0.9549218036960777\n",
      "r2 score corresponding to random state 59  is  0.9415261605183628\n",
      "r2 score corresponding to random state 60  is  0.9225379125611011\n",
      "r2 score corresponding to random state 61  is  0.9057745956644061\n",
      "r2 score corresponding to random state 62  is  0.9391707061323228\n",
      "r2 score corresponding to random state 63  is  0.9590143274430862\n",
      "r2 score corresponding to random state 64  is  0.9517716615394614\n",
      "r2 score corresponding to random state 65  is  0.9386162709421249\n",
      "r2 score corresponding to random state 66  is  0.9236730908602018\n",
      "r2 score corresponding to random state 67  is  0.9530756649182973\n",
      "r2 score corresponding to random state 68  is  0.9195544759689912\n",
      "r2 score corresponding to random state 69  is  0.9426817912248506\n",
      "r2 score corresponding to random state 70  is  0.9458592170809582\n",
      "r2 score corresponding to random state 71  is  0.9389247318352617\n",
      "r2 score corresponding to random state 72  is  0.9386772605314783\n",
      "r2 score corresponding to random state 73  is  0.9602599925142428\n",
      "r2 score corresponding to random state 74  is  0.9455304780958627\n",
      "r2 score corresponding to random state 75  is  0.9397009808244194\n",
      "r2 score corresponding to random state 76  is  0.940726292576695\n",
      "r2 score corresponding to random state 77  is  0.9186621925698901\n",
      "r2 score corresponding to random state 78  is  0.8848819986682235\n",
      "r2 score corresponding to random state 79  is  0.9332216011073982\n",
      "r2 score corresponding to random state 80  is  0.9589310620554687\n",
      "r2 score corresponding to random state 81  is  0.9568644308962696\n",
      "r2 score corresponding to random state 82  is  0.9042495120953975\n",
      "r2 score corresponding to random state 83  is  0.9168069750233252\n",
      "r2 score corresponding to random state 84  is  0.9149434719251107\n",
      "r2 score corresponding to random state 85  is  0.9078040393087551\n",
      "r2 score corresponding to random state 86  is  0.9399426987082908\n",
      "r2 score corresponding to random state 87  is  0.9147472406756686\n",
      "r2 score corresponding to random state 88  is  0.9404426956928879\n",
      "r2 score corresponding to random state 89  is  0.960622470667016\n",
      "r2 score corresponding to random state 90  is  0.9345308633477739\n",
      "r2 score corresponding to random state 91  is  0.9442768514670933\n",
      "r2 score corresponding to random state 92  is  0.9500259149690867\n",
      "r2 score corresponding to random state 93  is  0.9134656395545542\n",
      "r2 score corresponding to random state 94  is  0.9118833011840795\n",
      "r2 score corresponding to random state 95  is  0.9074811059403959\n",
      "r2 score corresponding to random state 96  is  0.946493914294995\n",
      "r2 score corresponding to random state 97  is  0.9609474497215961\n",
      "r2 score corresponding to random state 98  is  0.8842499494266973\n",
      "r2 score corresponding to random state 99  is  0.9418554511016134\n",
      "r2 score corresponding to random state 100  is  0.8966163403224618\n",
      "max r2 score corresponding to  52  is  0.9658710017369763\n"
     ]
    }
   ],
   "source": [
    "# Lets use KNN regression model\n",
    "knr=KNeighborsRegressor(n_neighbors=4)\n",
    "r_state=maxr2_score(knr,x,y)\n"
   ]
  },
  {
   "cell_type": "code",
   "execution_count": 89,
   "metadata": {},
   "outputs": [
    {
     "data": {
      "text/plain": [
       "{'alpha': 0.1}"
      ]
     },
     "execution_count": 89,
     "metadata": {},
     "output_type": "execute_result"
    }
   ],
   "source": [
    "# using Lasso\n",
    "from sklearn.linear_model import Lasso\n",
    "lsreg=Lasso()\n",
    "parameters={'alpha':[0.001,0.01,0.1,1]}\n",
    "clf=GridSearchCV(lsreg,parameters,cv=10)\n",
    "clf.fit(x,y)\n",
    "clf.best_params_"
   ]
  },
  {
   "cell_type": "code",
   "execution_count": 90,
   "metadata": {},
   "outputs": [
    {
     "name": "stdout",
     "output_type": "stream",
     "text": [
      "r2 score corresponding to random state 42  is  0.8980209932900431\n",
      "r2 score corresponding to random state 43  is  0.8748274285562571\n",
      "r2 score corresponding to random state 44  is  0.821964418062779\n",
      "r2 score corresponding to random state 45  is  0.8790722914669622\n",
      "r2 score corresponding to random state 46  is  0.8762496226404188\n",
      "r2 score corresponding to random state 47  is  0.8957580511531971\n",
      "r2 score corresponding to random state 48  is  0.8698158257018274\n",
      "r2 score corresponding to random state 49  is  0.8368871187315301\n",
      "r2 score corresponding to random state 50  is  0.8454831532120928\n",
      "r2 score corresponding to random state 51  is  0.8998279979944519\n",
      "r2 score corresponding to random state 52  is  0.8958286153769411\n",
      "r2 score corresponding to random state 53  is  0.8518482932500415\n",
      "r2 score corresponding to random state 54  is  0.876980803147764\n",
      "r2 score corresponding to random state 55  is  0.8966769669622391\n",
      "r2 score corresponding to random state 56  is  0.8415696924636991\n",
      "r2 score corresponding to random state 57  is  0.8700531371333975\n",
      "r2 score corresponding to random state 58  is  0.9289149990637448\n",
      "r2 score corresponding to random state 59  is  0.9170299901628998\n",
      "r2 score corresponding to random state 60  is  0.8801430063716252\n",
      "r2 score corresponding to random state 61  is  0.8551202968872668\n",
      "r2 score corresponding to random state 62  is  0.8598800808647138\n",
      "r2 score corresponding to random state 63  is  0.8978866939351249\n",
      "r2 score corresponding to random state 64  is  0.9284868429078285\n",
      "r2 score corresponding to random state 65  is  0.8818699681447264\n",
      "r2 score corresponding to random state 66  is  0.8798167550061156\n",
      "r2 score corresponding to random state 67  is  0.9046713571516178\n",
      "r2 score corresponding to random state 68  is  0.8669674499329241\n",
      "r2 score corresponding to random state 69  is  0.9079746135093784\n",
      "r2 score corresponding to random state 70  is  0.923546843087898\n",
      "r2 score corresponding to random state 71  is  0.8107096369008978\n",
      "r2 score corresponding to random state 72  is  0.9217914228387182\n",
      "r2 score corresponding to random state 73  is  0.8859439188430773\n",
      "r2 score corresponding to random state 74  is  0.9235677379405508\n",
      "r2 score corresponding to random state 75  is  0.8759695712700271\n",
      "r2 score corresponding to random state 76  is  0.8500553816373546\n",
      "r2 score corresponding to random state 77  is  0.9212060581336318\n",
      "r2 score corresponding to random state 78  is  0.7888367503863347\n",
      "r2 score corresponding to random state 79  is  0.8990430881577671\n",
      "r2 score corresponding to random state 80  is  0.9065711107408589\n",
      "r2 score corresponding to random state 81  is  0.9199058472103132\n",
      "r2 score corresponding to random state 82  is  0.8445756374212661\n",
      "r2 score corresponding to random state 83  is  0.8756506933391401\n",
      "r2 score corresponding to random state 84  is  0.9271708407927878\n",
      "r2 score corresponding to random state 85  is  0.7738165835671043\n",
      "r2 score corresponding to random state 86  is  0.907913585233876\n",
      "r2 score corresponding to random state 87  is  0.8098659231652563\n",
      "r2 score corresponding to random state 88  is  0.8808753791479955\n",
      "r2 score corresponding to random state 89  is  0.8499507767597355\n",
      "r2 score corresponding to random state 90  is  0.9440148550684346\n",
      "r2 score corresponding to random state 91  is  0.8945218159905867\n",
      "r2 score corresponding to random state 92  is  0.8931305476779863\n",
      "r2 score corresponding to random state 93  is  0.8423456096853021\n",
      "r2 score corresponding to random state 94  is  0.8652297008967426\n",
      "r2 score corresponding to random state 95  is  0.8448396548568596\n",
      "r2 score corresponding to random state 96  is  0.8571829228353596\n",
      "r2 score corresponding to random state 97  is  0.8963948121208023\n",
      "r2 score corresponding to random state 98  is  0.8391987536701183\n",
      "r2 score corresponding to random state 99  is  0.925021849325458\n",
      "r2 score corresponding to random state 100  is  0.8598766361943919\n",
      "max r2 score corresponding to  90  is  0.9440148550684346\n"
     ]
    }
   ],
   "source": [
    "# Lts check max r2 score \n",
    "lsreg=Lasso(alpha=0.1)\n",
    "r_state=maxr2_score(lsreg,x,y)"
   ]
  },
  {
   "cell_type": "code",
   "execution_count": 92,
   "metadata": {},
   "outputs": [
    {
     "data": {
      "text/plain": [
       "{'learning_rate': 0.1, 'n_estimators': 500}"
      ]
     },
     "execution_count": 92,
     "metadata": {},
     "output_type": "execute_result"
    }
   ],
   "source": [
    "# we will use gradient boosting Technique\n",
    "# for getting best prameters will use grid search\n",
    "from sklearn.ensemble import GradientBoostingRegressor\n",
    "gbr=GradientBoostingRegressor()\n",
    "parameters={\"learning_rate\":[0.001,0.01,0.1,1],\"n_estimators\":[10,100,500,1000]}\n",
    "clf=GridSearchCV(gbr,parameters,cv=5)\n",
    "clf.fit(x,y)\n",
    "clf.best_params_\n"
   ]
  },
  {
   "cell_type": "code",
   "execution_count": 98,
   "metadata": {},
   "outputs": [
    {
     "name": "stdout",
     "output_type": "stream",
     "text": [
      "r2 score corresponding to random state 42  is  0.9852889341357829\n",
      "r2 score corresponding to random state 43  is  0.9735295972692902\n",
      "r2 score corresponding to random state 44  is  0.9661374679355802\n",
      "r2 score corresponding to random state 45  is  0.9732044556573224\n",
      "r2 score corresponding to random state 46  is  0.9774773417707823\n",
      "r2 score corresponding to random state 47  is  0.9739140550253667\n",
      "r2 score corresponding to random state 48  is  0.9772989019224192\n",
      "r2 score corresponding to random state 49  is  0.9735323603353274\n",
      "r2 score corresponding to random state 50  is  0.9835283698642073\n",
      "r2 score corresponding to random state 51  is  0.9829909114383911\n",
      "r2 score corresponding to random state 52  is  0.9872527357318412\n",
      "r2 score corresponding to random state 53  is  0.9630568481587466\n",
      "r2 score corresponding to random state 54  is  0.9856103637126326\n",
      "r2 score corresponding to random state 55  is  0.9888161166550471\n",
      "r2 score corresponding to random state 56  is  0.9674835442464315\n",
      "r2 score corresponding to random state 57  is  0.9588419738984002\n",
      "r2 score corresponding to random state 58  is  0.9887057794423819\n",
      "r2 score corresponding to random state 59  is  0.9829109687736698\n",
      "r2 score corresponding to random state 60  is  0.972671745950712\n",
      "r2 score corresponding to random state 61  is  0.9679485242829473\n",
      "r2 score corresponding to random state 62  is  0.9716198597787785\n",
      "r2 score corresponding to random state 63  is  0.9814719898186416\n",
      "r2 score corresponding to random state 64  is  0.980116888613509\n",
      "r2 score corresponding to random state 65  is  0.9868343795058981\n",
      "r2 score corresponding to random state 66  is  0.9673476299514988\n",
      "r2 score corresponding to random state 67  is  0.9725816059121443\n",
      "r2 score corresponding to random state 68  is  0.9777108404195243\n",
      "r2 score corresponding to random state 69  is  0.9883751530119682\n",
      "r2 score corresponding to random state 70  is  0.9868221690971104\n",
      "r2 score corresponding to random state 71  is  0.9788327682220914\n",
      "r2 score corresponding to random state 72  is  0.9828720599781272\n",
      "r2 score corresponding to random state 73  is  0.9747252713318207\n",
      "r2 score corresponding to random state 74  is  0.9897641840930487\n",
      "r2 score corresponding to random state 75  is  0.9778119043822932\n",
      "r2 score corresponding to random state 76  is  0.9834859192760047\n",
      "r2 score corresponding to random state 77  is  0.9812412533962063\n",
      "r2 score corresponding to random state 78  is  0.9374381361478173\n",
      "r2 score corresponding to random state 79  is  0.9880838258966311\n",
      "r2 score corresponding to random state 80  is  0.9876967874034215\n",
      "r2 score corresponding to random state 81  is  0.9862408587148929\n",
      "r2 score corresponding to random state 82  is  0.9617277824468777\n",
      "r2 score corresponding to random state 83  is  0.9690726017531227\n",
      "r2 score corresponding to random state 84  is  0.9836821287023715\n",
      "r2 score corresponding to random state 85  is  0.9620827110893213\n",
      "r2 score corresponding to random state 86  is  0.9830385236790141\n",
      "r2 score corresponding to random state 87  is  0.958793097222318\n",
      "r2 score corresponding to random state 88  is  0.9807845233362082\n",
      "r2 score corresponding to random state 89  is  0.9759623619396067\n",
      "r2 score corresponding to random state 90  is  0.9798459429331321\n",
      "r2 score corresponding to random state 91  is  0.9808493239734221\n",
      "r2 score corresponding to random state 92  is  0.9846932728264478\n",
      "r2 score corresponding to random state 93  is  0.9634969717425083\n",
      "r2 score corresponding to random state 94  is  0.9738655148727847\n",
      "r2 score corresponding to random state 95  is  0.9659145856231944\n",
      "r2 score corresponding to random state 96  is  0.9782843248415916\n",
      "r2 score corresponding to random state 97  is  0.9848825895568937\n",
      "r2 score corresponding to random state 98  is  0.9615278426447242\n",
      "r2 score corresponding to random state 99  is  0.9864245247521152\n",
      "r2 score corresponding to random state 100  is  0.9614114542530359\n",
      "max r2 score corresponding to  74  is  0.9897641840930487\n"
     ]
    }
   ],
   "source": [
    "gbr=GradientBoostingRegressor(learning_rate=0.1,n_estimators=500)\n",
    "r_state=maxr2_score(gbr,x,y)"
   ]
  },
  {
   "cell_type": "code",
   "execution_count": 94,
   "metadata": {},
   "outputs": [
    {
     "data": {
      "text/plain": [
       "{'base_estimator': DecisionTreeRegressor(criterion='mse', max_depth=None, max_features=None,\n",
       "                       max_leaf_nodes=None, min_impurity_decrease=0.0,\n",
       "                       min_impurity_split=None, min_samples_leaf=1,\n",
       "                       min_samples_split=2, min_weight_fraction_leaf=0.0,\n",
       "                       presort=False, random_state=None, splitter='best'),\n",
       " 'learning_rate': 1,\n",
       " 'n_estimators': 500}"
      ]
     },
     "execution_count": 94,
     "metadata": {},
     "output_type": "execute_result"
    }
   ],
   "source": [
    "# Use adaboost\n",
    "from sklearn.ensemble import AdaBoostRegressor\n",
    "from sklearn.tree import DecisionTreeRegressor\n",
    "ada_reg=AdaBoostRegressor()\n",
    "parameters={\"learning_rate\":[0.001,0.01,0.1,1],\"n_estimators\":[10,100,500,1000],'base_estimator':[lr,lsreg,DecisionTreeRegressor()]}\n",
    "clf=GridSearchCV(ada_reg,parameters,cv=5)\n",
    "clf.fit(x,y)\n",
    "clf.best_params_"
   ]
  },
  {
   "cell_type": "code",
   "execution_count": 95,
   "metadata": {},
   "outputs": [
    {
     "name": "stdout",
     "output_type": "stream",
     "text": [
      "r2 score corresponding to random state 42  is  0.9743484336230004\n",
      "r2 score corresponding to random state 43  is  0.9730131075577894\n",
      "r2 score corresponding to random state 44  is  0.95133356642875\n",
      "r2 score corresponding to random state 45  is  0.9637628990450402\n",
      "r2 score corresponding to random state 46  is  0.9752981252090719\n",
      "r2 score corresponding to random state 47  is  0.9633169287994574\n",
      "r2 score corresponding to random state 48  is  0.9693445248446012\n",
      "r2 score corresponding to random state 49  is  0.9771479524830656\n",
      "r2 score corresponding to random state 50  is  0.9803075874826715\n",
      "r2 score corresponding to random state 51  is  0.960678610764933\n",
      "r2 score corresponding to random state 52  is  0.9837192852766237\n",
      "r2 score corresponding to random state 53  is  0.9580720370345449\n",
      "r2 score corresponding to random state 54  is  0.9839331348038762\n",
      "r2 score corresponding to random state 55  is  0.979892724282739\n",
      "r2 score corresponding to random state 56  is  0.9744008959686411\n",
      "r2 score corresponding to random state 57  is  0.9577556226182002\n",
      "r2 score corresponding to random state 58  is  0.9781956686391033\n",
      "r2 score corresponding to random state 59  is  0.9789541641219786\n",
      "r2 score corresponding to random state 60  is  0.9840088080463658\n",
      "r2 score corresponding to random state 61  is  0.9636021540898023\n",
      "r2 score corresponding to random state 62  is  0.9549076058462642\n",
      "r2 score corresponding to random state 63  is  0.9805046054576465\n",
      "r2 score corresponding to random state 64  is  0.9811972385305863\n",
      "r2 score corresponding to random state 65  is  0.9752416389929053\n",
      "r2 score corresponding to random state 66  is  0.9733973790372301\n",
      "r2 score corresponding to random state 67  is  0.9734465969589634\n",
      "r2 score corresponding to random state 68  is  0.9816570518752105\n",
      "r2 score corresponding to random state 69  is  0.984510899399335\n",
      "r2 score corresponding to random state 70  is  0.9828213401174482\n",
      "r2 score corresponding to random state 71  is  0.9672695664309781\n",
      "r2 score corresponding to random state 72  is  0.9774512429029667\n",
      "r2 score corresponding to random state 73  is  0.9666850992291891\n",
      "r2 score corresponding to random state 74  is  0.9826897792472378\n",
      "r2 score corresponding to random state 75  is  0.9618252018408736\n",
      "r2 score corresponding to random state 76  is  0.9813989423394675\n",
      "r2 score corresponding to random state 77  is  0.979416328232338\n",
      "r2 score corresponding to random state 78  is  0.9416093516254971\n",
      "r2 score corresponding to random state 79  is  0.9809436789894772\n",
      "r2 score corresponding to random state 80  is  0.9749528997677849\n",
      "r2 score corresponding to random state 81  is  0.9854496461289628\n",
      "r2 score corresponding to random state 82  is  0.9590876710827477\n",
      "r2 score corresponding to random state 83  is  0.9669946801631846\n",
      "r2 score corresponding to random state 84  is  0.9765859161823552\n",
      "r2 score corresponding to random state 85  is  0.9642079372223813\n",
      "r2 score corresponding to random state 86  is  0.9712284453379579\n",
      "r2 score corresponding to random state 87  is  0.9627473434898063\n",
      "r2 score corresponding to random state 88  is  0.9785224290273667\n",
      "r2 score corresponding to random state 89  is  0.9743791306373192\n",
      "r2 score corresponding to random state 90  is  0.9769211121652193\n",
      "r2 score corresponding to random state 91  is  0.9819569050911371\n",
      "r2 score corresponding to random state 92  is  0.9750507659013019\n",
      "r2 score corresponding to random state 93  is  0.9678225127234248\n",
      "r2 score corresponding to random state 94  is  0.9718384439031518\n",
      "r2 score corresponding to random state 95  is  0.9685530342226885\n",
      "r2 score corresponding to random state 96  is  0.9575223791988835\n",
      "r2 score corresponding to random state 97  is  0.9820696744696449\n",
      "r2 score corresponding to random state 98  is  0.9566593724107162\n",
      "r2 score corresponding to random state 99  is  0.9800059982005398\n",
      "r2 score corresponding to random state 100  is  0.9537452684775216\n",
      "max r2 score corresponding to  81  is  0.9854496461289628\n"
     ]
    }
   ],
   "source": [
    "Dt=DecisionTreeRegressor()\n",
    "ada_reg=AdaBoostRegressor(base_estimator=Dt,learning_rate=1,n_estimators=500)\n",
    "r_state=maxr2_score(ada_reg,x,y)"
   ]
  },
  {
   "cell_type": "code",
   "execution_count": null,
   "metadata": {},
   "outputs": [],
   "source": [
    "# GradientBoostingRegressor and Decision Tree Regressor are the best model"
   ]
  },
  {
   "cell_type": "code",
   "execution_count": 97,
   "metadata": {},
   "outputs": [
    {
     "name": "stdout",
     "output_type": "stream",
     "text": [
      "Mean r2 score 0.9757847454940421\n"
     ]
    }
   ],
   "source": [
    "# lets check cross val score\n",
    "from sklearn.model_selection import cross_val_score\n",
    "print(\"Mean r2 score\",cross_val_score(gbr,x,y,cv=5,scoring=\"r2\").mean())"
   ]
  },
  {
   "cell_type": "code",
   "execution_count": 99,
   "metadata": {},
   "outputs": [],
   "source": [
    "x_train,x_test,y_train,y_test=train_test_split(x,y,test_size=0.20,random_state=74)"
   ]
  },
  {
   "cell_type": "code",
   "execution_count": 100,
   "metadata": {},
   "outputs": [],
   "source": [
    "gbr=GradientBoostingRegressor(learning_rate=0.1,n_estimators=500)\n",
    "gbr.fit(x_train,y_train)\n",
    "pred=gbr.predict(x_test)\n"
   ]
  },
  {
   "cell_type": "code",
   "execution_count": 101,
   "metadata": {},
   "outputs": [
    {
     "name": "stdout",
     "output_type": "stream",
     "text": [
      "r2 score 0.9897138318977678\n"
     ]
    }
   ],
   "source": [
    "print(\"r2 score\",r2_score(y_test,pred))"
   ]
  },
  {
   "cell_type": "code",
   "execution_count": 102,
   "metadata": {},
   "outputs": [
    {
     "name": "stdout",
     "output_type": "stream",
     "text": [
      "RMSE is :  0.6268423760013895\n"
     ]
    }
   ],
   "source": [
    "print(\"RMSE is : \",np.sqrt(mean_squared_error(y_test,pred)))"
   ]
  },
  {
   "cell_type": "code",
   "execution_count": 103,
   "metadata": {},
   "outputs": [],
   "source": [
    "from sklearn.externals import joblib"
   ]
  },
  {
   "cell_type": "code",
   "execution_count": 104,
   "metadata": {},
   "outputs": [
    {
     "data": {
      "text/plain": [
       "['sales_predict.pkl']"
      ]
     },
     "execution_count": 104,
     "metadata": {},
     "output_type": "execute_result"
    }
   ],
   "source": [
    "joblib.dump(gbr,\"sales_predict.pkl\")"
   ]
  },
  {
   "cell_type": "code",
   "execution_count": 105,
   "metadata": {},
   "outputs": [],
   "source": [
    "a=[pred,y_test]"
   ]
  },
  {
   "cell_type": "code",
   "execution_count": 106,
   "metadata": {},
   "outputs": [
    {
     "data": {
      "text/plain": [
       "[array([19.79772981, 10.03566519, 21.71039905, 20.50709658, 14.96697664,\n",
       "         6.95951679, 16.30369411, 11.07917717, 14.2538927 , 21.79656756,\n",
       "        15.66634624, 12.52303264, 18.80791168, 25.46763608, 21.90049323,\n",
       "         5.74173239, 14.95459163, 19.73111586, 25.2869774 , 19.62092212,\n",
       "        13.10599864, 11.16202124, 11.89870135,  4.90714905, 11.72310042,\n",
       "        14.66372998, 14.0158442 , 23.75497665, 21.58187753, 25.51212075,\n",
       "        11.06899534, 20.26584026,  6.06096885, 22.50665547,  9.86131243,\n",
       "        11.61397096,  7.93172636, 21.04862026,  7.2338646 , 19.1445069 ]),\n",
       " 177    20.2\n",
       " 139     9.6\n",
       " 48     23.2\n",
       " 125    19.7\n",
       " 104    14.7\n",
       " 120     6.6\n",
       " 195    17.3\n",
       " 74     11.0\n",
       " 103    14.8\n",
       " 186    22.6\n",
       " 24     15.5\n",
       " 95     11.5\n",
       " 71     18.3\n",
       " 99     25.4\n",
       " 112    21.8\n",
       " 133     5.7\n",
       " 86     15.2\n",
       " 143    20.1\n",
       " 148    25.4\n",
       " 69     18.9\n",
       " 162    13.3\n",
       " 123    11.6\n",
       " 136    11.6\n",
       " 156     3.2\n",
       " 168    12.2\n",
       " 163    14.9\n",
       " 113    14.1\n",
       " 18     24.4\n",
       " 53     22.6\n",
       " 184    26.2\n",
       " 19     11.3\n",
       " 194    19.6\n",
       " 127     6.6\n",
       " 16     22.4\n",
       " 130     9.7\n",
       " 174    11.7\n",
       " 107     7.2\n",
       " 94     22.2\n",
       " 77      6.9\n",
       " 15     19.0\n",
       " Name: sales, dtype: float64]"
      ]
     },
     "execution_count": 106,
     "metadata": {},
     "output_type": "execute_result"
    }
   ],
   "source": [
    "a"
   ]
  },
  {
   "cell_type": "code",
   "execution_count": null,
   "metadata": {},
   "outputs": [],
   "source": []
  },
  {
   "cell_type": "code",
   "execution_count": null,
   "metadata": {},
   "outputs": [],
   "source": []
  },
  {
   "cell_type": "code",
   "execution_count": null,
   "metadata": {},
   "outputs": [],
   "source": []
  },
  {
   "cell_type": "code",
   "execution_count": null,
   "metadata": {},
   "outputs": [],
   "source": []
  },
  {
   "cell_type": "code",
   "execution_count": null,
   "metadata": {},
   "outputs": [],
   "source": []
  },
  {
   "cell_type": "code",
   "execution_count": null,
   "metadata": {},
   "outputs": [],
   "source": []
  },
  {
   "cell_type": "code",
   "execution_count": null,
   "metadata": {},
   "outputs": [],
   "source": []
  },
  {
   "cell_type": "code",
   "execution_count": null,
   "metadata": {},
   "outputs": [],
   "source": []
  },
  {
   "cell_type": "code",
   "execution_count": null,
   "metadata": {},
   "outputs": [],
   "source": []
  },
  {
   "cell_type": "code",
   "execution_count": null,
   "metadata": {},
   "outputs": [],
   "source": []
  },
  {
   "cell_type": "code",
   "execution_count": null,
   "metadata": {},
   "outputs": [],
   "source": []
  },
  {
   "cell_type": "code",
   "execution_count": null,
   "metadata": {},
   "outputs": [],
   "source": []
  },
  {
   "cell_type": "code",
   "execution_count": null,
   "metadata": {},
   "outputs": [],
   "source": []
  },
  {
   "cell_type": "code",
   "execution_count": null,
   "metadata": {},
   "outputs": [],
   "source": []
  },
  {
   "cell_type": "code",
   "execution_count": null,
   "metadata": {},
   "outputs": [],
   "source": []
  },
  {
   "cell_type": "code",
   "execution_count": 150,
   "metadata": {},
   "outputs": [],
   "source": [
    "\n"
   ]
  },
  {
   "cell_type": "code",
   "execution_count": null,
   "metadata": {},
   "outputs": [],
   "source": []
  },
  {
   "cell_type": "code",
   "execution_count": null,
   "metadata": {},
   "outputs": [],
   "source": []
  }
 ],
 "metadata": {
  "kernelspec": {
   "display_name": "Python 3",
   "language": "python",
   "name": "python3"
  },
  "language_info": {
   "codemirror_mode": {
    "name": "ipython",
    "version": 3
   },
   "file_extension": ".py",
   "mimetype": "text/x-python",
   "name": "python",
   "nbconvert_exporter": "python",
   "pygments_lexer": "ipython3",
   "version": "3.7.3"
  }
 },
 "nbformat": 4,
 "nbformat_minor": 2
}
